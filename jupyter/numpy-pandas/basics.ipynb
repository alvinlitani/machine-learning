{
 "cells": [
  {
   "cell_type": "markdown",
   "id": "93af4a61-5288-4d25-ab01-9442f76bd9f9",
   "metadata": {},
   "source": [
    "Create an array containing the values 1–15 and reshaping it into a 3-by-5 array."
   ]
  },
  {
   "cell_type": "code",
   "execution_count": 1,
   "id": "c155b772-4b05-4fe6-bb96-da895fb70b7b",
   "metadata": {},
   "outputs": [
    {
     "name": "stdout",
     "output_type": "stream",
     "text": [
      "[[ 1  2  3  4  5]\n",
      " [ 6  7  8  9 10]\n",
      " [11 12 13 14 15]]\n"
     ]
    }
   ],
   "source": [
    "import numpy as np\n",
    "\n",
    "array_2D = np.arange(1, 16).reshape(3, 5)\n",
    "\n",
    "#another method\n",
    "#array_1D = np.arange(1, 16)\n",
    "#array_2D = np.array([array_1D[i:i+5] for i in range (0, 15, 5)])\n",
    "\n",
    "print(array_2D)"
   ]
  },
  {
   "cell_type": "markdown",
   "id": "7f982def-9564-4603-9578-671d30797587",
   "metadata": {},
   "source": [
    "Select row 2"
   ]
  },
  {
   "cell_type": "code",
   "execution_count": 3,
   "id": "0ae225ad-94df-4b21-bd8f-b2878af37c22",
   "metadata": {},
   "outputs": [
    {
     "name": "stdout",
     "output_type": "stream",
     "text": [
      "row:  [11 12 13 14 15]\n"
     ]
    }
   ],
   "source": [
    "print(\"row: \",array_2D[2])"
   ]
  },
  {
   "cell_type": "markdown",
   "id": "13866144-3468-4e14-8b31-d1fb6e4f5d19",
   "metadata": {},
   "source": [
    "Select column 4"
   ]
  },
  {
   "cell_type": "code",
   "execution_count": 5,
   "id": "6de0d663-7fa3-4260-a198-08e617602772",
   "metadata": {},
   "outputs": [
    {
     "name": "stdout",
     "output_type": "stream",
     "text": [
      "column:  [ 5 10 15]\n"
     ]
    }
   ],
   "source": [
    "print(\"column: \",array_2D[:,4])"
   ]
  },
  {
   "cell_type": "markdown",
   "id": "bb3355b9-c17e-4db3-819b-751ae551d59c",
   "metadata": {},
   "source": [
    "Select rows 0 and 1"
   ]
  },
  {
   "cell_type": "code",
   "execution_count": 7,
   "id": "4236ad4c-892a-401e-b838-b56bf94eda15",
   "metadata": {},
   "outputs": [
    {
     "name": "stdout",
     "output_type": "stream",
     "text": [
      "Two rows:\n",
      " [[ 1  2  3  4  5]\n",
      " [ 6  7  8  9 10]]\n"
     ]
    }
   ],
   "source": [
    "print(\"Two rows:\\n\",array_2D[0:2,:])"
   ]
  },
  {
   "cell_type": "markdown",
   "id": "4aed97db-5e1f-4417-a279-6855d8dd6f02",
   "metadata": {},
   "source": [
    "Select columns 2–4"
   ]
  },
  {
   "cell_type": "code",
   "execution_count": 9,
   "id": "e1ed46c8-2bd7-4186-a41a-bc8c2e4a0b4f",
   "metadata": {},
   "outputs": [
    {
     "name": "stdout",
     "output_type": "stream",
     "text": [
      "Three columns:\n",
      " [[ 3  8 13]\n",
      " [ 4  9 14]\n",
      " [ 5 10 15]]\n"
     ]
    }
   ],
   "source": [
    "print(\"Three columns:\\n\",array_2D[:,2:5].T)"
   ]
  },
  {
   "cell_type": "markdown",
   "id": "32e52866-be57-496a-90e7-704da7b5c1e2",
   "metadata": {},
   "source": [
    "Select the element that is in row 1 and column 4"
   ]
  },
  {
   "cell_type": "code",
   "execution_count": 25,
   "id": "01aec1fc-d381-460d-bfe6-9501c492eb5d",
   "metadata": {},
   "outputs": [
    {
     "name": "stdout",
     "output_type": "stream",
     "text": [
      "Element:  10\n"
     ]
    }
   ],
   "source": [
    "print(\"Element: \",array_2D[1,4])"
   ]
  },
  {
   "cell_type": "markdown",
   "id": "b9344457-c582-4daf-b69a-fe540771b8a8",
   "metadata": {},
   "source": [
    "Select all elements from rows 1 and 2 that are in columns 0, 2 and 4"
   ]
  },
  {
   "cell_type": "code",
   "execution_count": 13,
   "id": "aabe07f3-4276-427b-aa92-bd24f075c2b8",
   "metadata": {},
   "outputs": [
    {
     "name": "stdout",
     "output_type": "stream",
     "text": [
      "Elements:\n",
      " [[ 6  8 10]\n",
      " [11 13 15]]\n"
     ]
    }
   ],
   "source": [
    "print(\"Elements:\\n\",array_2D[1:3,[0,2,4]])"
   ]
  },
  {
   "cell_type": "markdown",
   "id": "398a613e-023a-4868-b890-2defad38d8b9",
   "metadata": {},
   "source": [
    "Using pandas, create a Series from the list [5, 11, 13, 15]"
   ]
  },
  {
   "cell_type": "code",
   "execution_count": 31,
   "id": "ef867cc3-675d-4a58-bb1f-36fa8e5f2de7",
   "metadata": {},
   "outputs": [
    {
     "name": "stdout",
     "output_type": "stream",
     "text": [
      "0     5\n",
      "1    11\n",
      "2    13\n",
      "3    15\n",
      "dtype: int64\n"
     ]
    }
   ],
   "source": [
    "import pandas as pd\n",
    "\n",
    "series = pd.Series([5, 11, 13, 15])\n",
    "\n",
    "print(series)"
   ]
  },
  {
   "cell_type": "markdown",
   "id": "e8220334-eb0c-42e9-8ccb-20b4febb99eb",
   "metadata": {},
   "source": [
    "Create a Series with five elements that are all 110.0"
   ]
  },
  {
   "cell_type": "code",
   "execution_count": 34,
   "id": "d9fd8538-5e38-4b9e-accc-391a067e656c",
   "metadata": {},
   "outputs": [
    {
     "name": "stdout",
     "output_type": "stream",
     "text": [
      "0    110.0\n",
      "1    110.0\n",
      "2    110.0\n",
      "3    110.0\n",
      "4    110.0\n",
      "dtype: float64\n"
     ]
    }
   ],
   "source": [
    "series = pd.Series([110.0] * 5)\n",
    "\n",
    "print(series)"
   ]
  },
  {
   "cell_type": "markdown",
   "id": "791713d8-56b3-4bb7-86ee-128082d219ad",
   "metadata": {},
   "source": [
    "Create a Series with 20 elements that are all random numbers in the range 0 to 200. Use method describe to produce the Series’ basic descriptive statistics."
   ]
  },
  {
   "cell_type": "code",
   "execution_count": 71,
   "id": "4d785f9a-532c-4742-8e99-d0cde7764856",
   "metadata": {},
   "outputs": [
    {
     "name": "stdout",
     "output_type": "stream",
     "text": [
      "Random Series: \n",
      " 0      54\n",
      "1      50\n",
      "2      23\n",
      "3     141\n",
      "4     105\n",
      "5      35\n",
      "6       9\n",
      "7     127\n",
      "8      71\n",
      "9      88\n",
      "10     91\n",
      "11    103\n",
      "12    158\n",
      "13     33\n",
      "14      0\n",
      "15    102\n",
      "16    115\n",
      "17     89\n",
      "18    166\n",
      "19     91\n",
      "dtype: int32\n",
      "Statistics: \n",
      " count     20.000000\n",
      "mean      82.550000\n",
      "std       47.633994\n",
      "min        0.000000\n",
      "25%       46.250000\n",
      "50%       90.000000\n",
      "75%      107.500000\n",
      "max      166.000000\n",
      "dtype: float64\n"
     ]
    }
   ],
   "source": [
    "random_series = pd.Series(np.random.randint(0, 201, size=20))\n",
    "\n",
    "print(\"Random Series:\\n\", random_series)\n",
    "\n",
    "print(\"Statistics:\\n\",random_series.describe())"
   ]
  },
  {
   "cell_type": "markdown",
   "id": "ccaa1ac6-1d91-46ed-8987-bb4a8826005d",
   "metadata": {},
   "source": [
    "Create a Series called temperatures of the floating-point values 99.6, 99.9, 100.2 and 97.9. Using the index keyword argument, specify the custom indices 'Julie', 'Charlie', 'Sam' and 'Andrea'"
   ]
  },
  {
   "cell_type": "code",
   "execution_count": 42,
   "id": "6068bc99-9374-4bd9-ae00-d6d974d79d28",
   "metadata": {},
   "outputs": [
    {
     "name": "stdout",
     "output_type": "stream",
     "text": [
      "Julie       99.6\n",
      "Charlie     99.9\n",
      "Sam        100.2\n",
      "Andrea      97.9\n",
      "dtype: float64\n"
     ]
    }
   ],
   "source": [
    "temperatures = pd.Series([99.6, 99.9, 100.2, 97.9], index=['Julie', 'Charlie', 'Sam','Andrea'])\n",
    "\n",
    "print(temperatures)"
   ]
  },
  {
   "cell_type": "markdown",
   "id": "0ae2e5ae-e07b-4a55-844f-47992574cf9f",
   "metadata": {},
   "source": [
    "Form a dictionary from the names and values in previous part, then use it to initialize a Series"
   ]
  },
  {
   "cell_type": "markdown",
   "id": "1ef0912f-0729-4bfd-ac75-9cff209355a8",
   "metadata": {},
   "source": [
    "temperatures_dictionary = {'Julie': 99.6,'Charlie': 99.9,'Sam': 100.2,'Andrea': 97.9}\n",
    "\n",
    "print(temperatures_dictionary)"
   ]
  },
  {
   "cell_type": "markdown",
   "id": "5ef1689a-48c2-41f1-8f66-b7f82f96bd34",
   "metadata": {},
   "source": [
    "Create a DataFrame named temperatures from a dictionary of three temperature readings each for 'Maxine', 'James' and 'Amanda'."
   ]
  },
  {
   "cell_type": "code",
   "execution_count": 48,
   "id": "9dc362f2-254e-4a81-a1f2-093a4454beba",
   "metadata": {},
   "outputs": [
    {
     "name": "stdout",
     "output_type": "stream",
     "text": [
      "   Maxine  James  Amanda\n",
      "0    98.6  100.2    97.5\n",
      "1    99.1   99.8    98.0\n",
      "2    98.7  101.0    98.3\n"
     ]
    }
   ],
   "source": [
    "temperatures_dict = {'Maxine': [98.6, 99.1, 98.7],'James': [100.2, 99.8, 101.0],'Amanda': [97.5, 98.0, 98.3]}\n",
    "\n",
    "temperatures_dataframe = pd.DataFrame(temperatures_dict)\n",
    "\n",
    "print(temperatures_dataframe)"
   ]
  },
  {
   "cell_type": "markdown",
   "id": "efff02b0-521f-4e05-a658-de67c18702d5",
   "metadata": {},
   "source": [
    "Recreate the DataFrame temperatures in Part (a) with custom indices using the index keyword argument and a list containing 'Morning', 'Afternoon' and 'Evening'."
   ]
  },
  {
   "cell_type": "code",
   "execution_count": 53,
   "id": "6c5c0228-d1dc-4a24-baea-3cf371fcacfc",
   "metadata": {},
   "outputs": [
    {
     "name": "stdout",
     "output_type": "stream",
     "text": [
      "           Maxine  James  Amanda\n",
      "Morning      98.6  100.2    97.5\n",
      "Afternoon    99.1   99.8    98.0\n",
      "Evening      98.7  101.0    98.3\n"
     ]
    }
   ],
   "source": [
    "temperatures_index = pd.DataFrame(temperatures_dict, index=['Morning','Afternoon','Evening'])\n",
    "\n",
    "print(temperatures_index)"
   ]
  },
  {
   "cell_type": "markdown",
   "id": "bbacfa47-a39d-46ee-988b-6fcd6030e12f",
   "metadata": {},
   "source": [
    "Select from temperatures the column of temperature readings for 'Maxine'"
   ]
  },
  {
   "cell_type": "code",
   "execution_count": 56,
   "id": "c5c7aa4b-65b7-4b2b-beb7-f858e384a127",
   "metadata": {},
   "outputs": [
    {
     "name": "stdout",
     "output_type": "stream",
     "text": [
      "Morning      98.6\n",
      "Afternoon    99.1\n",
      "Evening      98.7\n",
      "Name: Maxine, dtype: float64\n"
     ]
    }
   ],
   "source": [
    "print(temperatures_index['Maxine'])"
   ]
  },
  {
   "cell_type": "markdown",
   "id": "31a8e4b0-064b-4d75-b551-fb14b0301ff0",
   "metadata": {},
   "source": [
    "Select from temperatures the row of 'Morning' temperature readings"
   ]
  },
  {
   "cell_type": "code",
   "execution_count": 63,
   "id": "859ffecb-a851-4e16-85db-87b78485da16",
   "metadata": {},
   "outputs": [
    {
     "name": "stdout",
     "output_type": "stream",
     "text": [
      "Maxine     98.6\n",
      "James     100.2\n",
      "Amanda     97.5\n",
      "Name: Morning, dtype: float64\n"
     ]
    }
   ],
   "source": [
    "print(temperatures_index.loc['Morning'])"
   ]
  },
  {
   "cell_type": "markdown",
   "id": "30ad9b03-70d5-417b-92fb-0a536617bf58",
   "metadata": {},
   "source": [
    "Select from temperatures the rows for 'Morning' and 'Evening' temperature readings."
   ]
  },
  {
   "cell_type": "code",
   "execution_count": 66,
   "id": "87263179-4f6d-4dff-989d-603df9582923",
   "metadata": {},
   "outputs": [
    {
     "name": "stdout",
     "output_type": "stream",
     "text": [
      "         Maxine  James  Amanda\n",
      "Morning    98.6  100.2    97.5\n",
      "Evening    98.7  101.0    98.3\n"
     ]
    }
   ],
   "source": [
    "print(temperatures_index.loc[['Morning', 'Evening']])"
   ]
  },
  {
   "cell_type": "markdown",
   "id": "279c88ee-e233-46cb-b010-0ce4811b4a4f",
   "metadata": {},
   "source": [
    "Select from temperatures the columns of temperature readings for 'Amanda' and 'Maxine'"
   ]
  },
  {
   "cell_type": "code",
   "execution_count": 69,
   "id": "b4a54627-2e02-433c-adc1-867b33f36ab8",
   "metadata": {},
   "outputs": [
    {
     "name": "stdout",
     "output_type": "stream",
     "text": [
      "           Amanda  Maxine\n",
      "Morning      97.5    98.6\n",
      "Afternoon    98.0    99.1\n",
      "Evening      98.3    98.7\n"
     ]
    }
   ],
   "source": [
    "print(temperatures_index[['Amanda', 'Maxine']])"
   ]
  },
  {
   "cell_type": "markdown",
   "id": "552f2dad-81c4-4b85-9d2e-76774917ed86",
   "metadata": {},
   "source": [
    "Select from temperatures the elements for 'Amanda' and 'Maxine' in the 'Morning' and 'Afternoon'."
   ]
  },
  {
   "cell_type": "code",
   "execution_count": 74,
   "id": "e436fbf9-aeb3-43ad-993e-849d6644b61b",
   "metadata": {},
   "outputs": [
    {
     "name": "stdout",
     "output_type": "stream",
     "text": [
      "           Amanda  Maxine\n",
      "Morning      97.5    98.6\n",
      "Afternoon    98.0    99.1\n"
     ]
    }
   ],
   "source": [
    "print(temperatures_index.loc[['Morning', 'Afternoon'], ['Amanda', 'Maxine']])"
   ]
  },
  {
   "cell_type": "markdown",
   "id": "fc4e56b4-b004-438b-a1cf-c0782f30f6ad",
   "metadata": {},
   "source": [
    "Use the describe method to produce temperatures’ descriptive statistics."
   ]
  },
  {
   "cell_type": "code",
   "execution_count": 77,
   "id": "c565048b-6828-4a70-8474-fbe8c57bdd9b",
   "metadata": {},
   "outputs": [
    {
     "name": "stdout",
     "output_type": "stream",
     "text": [
      "          Maxine       James     Amanda\n",
      "count   3.000000    3.000000   3.000000\n",
      "mean   98.800000  100.333333  97.933333\n",
      "std     0.264575    0.611010   0.404145\n",
      "min    98.600000   99.800000  97.500000\n",
      "25%    98.650000  100.000000  97.750000\n",
      "50%    98.700000  100.200000  98.000000\n",
      "75%    98.900000  100.600000  98.150000\n",
      "max    99.100000  101.000000  98.300000\n"
     ]
    }
   ],
   "source": [
    "print(temperatures_index.describe())"
   ]
  },
  {
   "cell_type": "markdown",
   "id": "ac20ed78-9751-4497-98a2-dde2e59475cf",
   "metadata": {},
   "source": [
    "Transpose temperatures."
   ]
  },
  {
   "cell_type": "code",
   "execution_count": 80,
   "id": "8ea0f638-bfe9-41f3-b4fd-bfaec9ba0d51",
   "metadata": {},
   "outputs": [
    {
     "name": "stdout",
     "output_type": "stream",
     "text": [
      "        Morning  Afternoon  Evening\n",
      "Maxine     98.6       99.1     98.7\n",
      "James     100.2       99.8    101.0\n",
      "Amanda     97.5       98.0     98.3\n"
     ]
    }
   ],
   "source": [
    "print(temperatures_index.T)"
   ]
  },
  {
   "cell_type": "markdown",
   "id": "79014b57-3dda-4900-8b79-2380c385b7e5",
   "metadata": {},
   "source": [
    "Sort temperatures so that its column names are in alphabetical order."
   ]
  },
  {
   "cell_type": "code",
   "execution_count": 83,
   "id": "0edf452a-8a96-4dd5-b526-50923e7a604e",
   "metadata": {},
   "outputs": [
    {
     "name": "stdout",
     "output_type": "stream",
     "text": [
      "           Amanda  James  Maxine\n",
      "Morning      97.5  100.2    98.6\n",
      "Afternoon    98.0   99.8    99.1\n",
      "Evening      98.3  101.0    98.7\n"
     ]
    }
   ],
   "source": [
    "print(temperatures_index.sort_index(axis=1))"
   ]
  }
 ],
 "metadata": {
  "kernelspec": {
   "display_name": "Python 3 (ipykernel)",
   "language": "python",
   "name": "python3"
  },
  "language_info": {
   "codemirror_mode": {
    "name": "ipython",
    "version": 3
   },
   "file_extension": ".py",
   "mimetype": "text/x-python",
   "name": "python",
   "nbconvert_exporter": "python",
   "pygments_lexer": "ipython3",
   "version": "3.12.4"
  }
 },
 "nbformat": 4,
 "nbformat_minor": 5
}
