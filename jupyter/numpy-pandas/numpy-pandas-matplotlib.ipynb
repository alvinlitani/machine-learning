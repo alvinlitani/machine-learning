{
 "cells": [
  {
   "cell_type": "markdown",
   "id": "bdae39f3-e1c5-4680-8382-2d6bc941c8c3",
   "metadata": {},
   "source": [
    "# CST8504 Assignment 1: Numpy, Pandas, and Matplotlib\n",
    "\n",
    "In this assignment, you will use Numpy, Pandas, and Matplotlib to process and visualize real-world time-series data.  When you are finished this assignment, you will know how to:\n",
    "* Read data from a CSV file into a DataFrame, parsing the date-time column\n",
    "* Make the date-time column the index of the DataFrame\n",
    "* Round the seconds.thousandths down to even seconds in the date-time index\n",
    "* Resample a time-series DataFrame on the minute (taking the average of the values within a minute)\n",
    "* Similar to the above point, resample a time-series DataFrame to do various aggregations by various time periods, such as mean value by hour, max value by month, or min value by day, etc\n",
    "* Make plots of temperature data and humidity data\n",
    "\n",
    "## Instructions\n",
    "1. You have already unzipped a folder to find this Jupyter notebook there, as well as the unzipped sensor_data folder which contains 6 CSV files of raw data.  Rename this Jupyter notebook to include your Algonquin ID (example: kell0324) in the name instead of \"kelleyt\".\n",
    "2. Go through the following cells, reading/running them, and look for comments that instruct you to supply some code to accomplish a result: supply that code in the code cell.\n",
    "These instructions continue after those cells,\n",
    "[here](#here)\n"
   ]
  },
  {
   "cell_type": "code",
   "execution_count": 2,
   "id": "14603cf3-c709-45c3-ae2d-ddb53b574635",
   "metadata": {},
   "outputs": [
    {
     "name": "stdout",
     "output_type": "stream",
     "text": [
      "['Solarize_Light2', '_classic_test_patch', '_mpl-gallery', '_mpl-gallery-nogrid', 'bmh', 'classic', 'dark_background', 'fast', 'fivethirtyeight', 'ggplot', 'grayscale', 'seaborn-v0_8', 'seaborn-v0_8-bright', 'seaborn-v0_8-colorblind', 'seaborn-v0_8-dark', 'seaborn-v0_8-dark-palette', 'seaborn-v0_8-darkgrid', 'seaborn-v0_8-deep', 'seaborn-v0_8-muted', 'seaborn-v0_8-notebook', 'seaborn-v0_8-paper', 'seaborn-v0_8-pastel', 'seaborn-v0_8-poster', 'seaborn-v0_8-talk', 'seaborn-v0_8-ticks', 'seaborn-v0_8-white', 'seaborn-v0_8-whitegrid', 'tableau-colorblind10']\n"
     ]
    }
   ],
   "source": [
    "%matplotlib inline\n",
    "import matplotlib.pyplot as plt\n",
    "print(plt.style.available)\n",
    "plt.style.use('seaborn-v0_8-whitegrid')\n",
    "import numpy as np\n",
    "import pandas as pd"
   ]
  },
  {
   "cell_type": "markdown",
   "id": "81c85611-ea44-4828-aa61-39b8cfc9588a",
   "metadata": {},
   "source": [
    "Create a DataFrame by reading a CSV file of temperature data for a node"
   ]
  },
  {
   "cell_type": "code",
   "execution_count": 15,
   "id": "8bd6c869-e9cd-4fcc-8047-c4619842e06c",
   "metadata": {},
   "outputs": [],
   "source": [
    "node4temp = pd.read_csv('sensor_data/node4temp.csv')"
   ]
  },
  {
   "cell_type": "markdown",
   "id": "9987fe9f-0591-4da6-a518-80b274843841",
   "metadata": {},
   "source": [
    "Let's take a look at the resulting DataFrame"
   ]
  },
  {
   "cell_type": "code",
   "execution_count": 18,
   "id": "c18edc2f-9c28-44b1-a1d8-7872f9218c58",
   "metadata": {},
   "outputs": [
    {
     "data": {
      "text/html": [
       "<div>\n",
       "<style scoped>\n",
       "    .dataframe tbody tr th:only-of-type {\n",
       "        vertical-align: middle;\n",
       "    }\n",
       "\n",
       "    .dataframe tbody tr th {\n",
       "        vertical-align: top;\n",
       "    }\n",
       "\n",
       "    .dataframe thead th {\n",
       "        text-align: right;\n",
       "    }\n",
       "</style>\n",
       "<table border=\"1\" class=\"dataframe\">\n",
       "  <thead>\n",
       "    <tr style=\"text-align: right;\">\n",
       "      <th></th>\n",
       "      <th>2020-10-18 17:46:00.714</th>\n",
       "      <th>14</th>\n",
       "    </tr>\n",
       "  </thead>\n",
       "  <tbody>\n",
       "    <tr>\n",
       "      <th>0</th>\n",
       "      <td>2020-10-18 17:47:00.844</td>\n",
       "      <td>14.000000</td>\n",
       "    </tr>\n",
       "    <tr>\n",
       "      <th>1</th>\n",
       "      <td>2020-10-18 17:48:00.897</td>\n",
       "      <td>14.000000</td>\n",
       "    </tr>\n",
       "    <tr>\n",
       "      <th>2</th>\n",
       "      <td>2020-10-18 17:49:00.948</td>\n",
       "      <td>14.000000</td>\n",
       "    </tr>\n",
       "    <tr>\n",
       "      <th>3</th>\n",
       "      <td>2020-10-18 17:50:00.996</td>\n",
       "      <td>14.000000</td>\n",
       "    </tr>\n",
       "    <tr>\n",
       "      <th>4</th>\n",
       "      <td>2020-10-18 17:51:00.047</td>\n",
       "      <td>14.000000</td>\n",
       "    </tr>\n",
       "    <tr>\n",
       "      <th>...</th>\n",
       "      <td>...</td>\n",
       "      <td>...</td>\n",
       "    </tr>\n",
       "    <tr>\n",
       "      <th>1024432</th>\n",
       "      <td>2022-09-22 11:18:00.545</td>\n",
       "      <td>24.944444</td>\n",
       "    </tr>\n",
       "    <tr>\n",
       "      <th>1024433</th>\n",
       "      <td>2022-09-22 11:19:00.768</td>\n",
       "      <td>24.944444</td>\n",
       "    </tr>\n",
       "    <tr>\n",
       "      <th>1024434</th>\n",
       "      <td>2022-09-22 11:20:00.984</td>\n",
       "      <td>24.944444</td>\n",
       "    </tr>\n",
       "    <tr>\n",
       "      <th>1024435</th>\n",
       "      <td>2022-09-22 11:21:00.231</td>\n",
       "      <td>24.944444</td>\n",
       "    </tr>\n",
       "    <tr>\n",
       "      <th>1024436</th>\n",
       "      <td>2022-09-22 11:22:00.449</td>\n",
       "      <td>24.944444</td>\n",
       "    </tr>\n",
       "  </tbody>\n",
       "</table>\n",
       "<p>1024437 rows × 2 columns</p>\n",
       "</div>"
      ],
      "text/plain": [
       "         2020-10-18 17:46:00.714         14\n",
       "0        2020-10-18 17:47:00.844  14.000000\n",
       "1        2020-10-18 17:48:00.897  14.000000\n",
       "2        2020-10-18 17:49:00.948  14.000000\n",
       "3        2020-10-18 17:50:00.996  14.000000\n",
       "4        2020-10-18 17:51:00.047  14.000000\n",
       "...                          ...        ...\n",
       "1024432  2022-09-22 11:18:00.545  24.944444\n",
       "1024433  2022-09-22 11:19:00.768  24.944444\n",
       "1024434  2022-09-22 11:20:00.984  24.944444\n",
       "1024435  2022-09-22 11:21:00.231  24.944444\n",
       "1024436  2022-09-22 11:22:00.449  24.944444\n",
       "\n",
       "[1024437 rows x 2 columns]"
      ]
     },
     "execution_count": 18,
     "metadata": {},
     "output_type": "execute_result"
    }
   ],
   "source": [
    "node4temp"
   ]
  },
  {
   "cell_type": "markdown",
   "id": "5c9b114e-ce6b-4263-9c9a-ca322a5712b3",
   "metadata": {},
   "source": [
    "Notice that our CSV file does not include a column header line of column names, so the first row of data has mistakenly been used for the column names.  We can fix that by reparsing the data and supplying the titles."
   ]
  },
  {
   "cell_type": "code",
   "execution_count": 21,
   "id": "349d2b78-a8d9-4ed8-a6bd-438c910a0920",
   "metadata": {},
   "outputs": [],
   "source": [
    "node4temp = pd.read_csv('sensor_data/node4temp.csv', names=['DateTime','Temperature'])"
   ]
  },
  {
   "cell_type": "code",
   "execution_count": 23,
   "id": "68092874-9976-47d7-9f16-05b041a83e9c",
   "metadata": {},
   "outputs": [
    {
     "data": {
      "text/html": [
       "<div>\n",
       "<style scoped>\n",
       "    .dataframe tbody tr th:only-of-type {\n",
       "        vertical-align: middle;\n",
       "    }\n",
       "\n",
       "    .dataframe tbody tr th {\n",
       "        vertical-align: top;\n",
       "    }\n",
       "\n",
       "    .dataframe thead th {\n",
       "        text-align: right;\n",
       "    }\n",
       "</style>\n",
       "<table border=\"1\" class=\"dataframe\">\n",
       "  <thead>\n",
       "    <tr style=\"text-align: right;\">\n",
       "      <th></th>\n",
       "      <th>DateTime</th>\n",
       "      <th>Temperature</th>\n",
       "    </tr>\n",
       "  </thead>\n",
       "  <tbody>\n",
       "    <tr>\n",
       "      <th>0</th>\n",
       "      <td>2020-10-18 17:46:00.714</td>\n",
       "      <td>14.000000</td>\n",
       "    </tr>\n",
       "    <tr>\n",
       "      <th>1</th>\n",
       "      <td>2020-10-18 17:47:00.844</td>\n",
       "      <td>14.000000</td>\n",
       "    </tr>\n",
       "    <tr>\n",
       "      <th>2</th>\n",
       "      <td>2020-10-18 17:48:00.897</td>\n",
       "      <td>14.000000</td>\n",
       "    </tr>\n",
       "    <tr>\n",
       "      <th>3</th>\n",
       "      <td>2020-10-18 17:49:00.948</td>\n",
       "      <td>14.000000</td>\n",
       "    </tr>\n",
       "    <tr>\n",
       "      <th>4</th>\n",
       "      <td>2020-10-18 17:50:00.996</td>\n",
       "      <td>14.000000</td>\n",
       "    </tr>\n",
       "    <tr>\n",
       "      <th>...</th>\n",
       "      <td>...</td>\n",
       "      <td>...</td>\n",
       "    </tr>\n",
       "    <tr>\n",
       "      <th>1024433</th>\n",
       "      <td>2022-09-22 11:18:00.545</td>\n",
       "      <td>24.944444</td>\n",
       "    </tr>\n",
       "    <tr>\n",
       "      <th>1024434</th>\n",
       "      <td>2022-09-22 11:19:00.768</td>\n",
       "      <td>24.944444</td>\n",
       "    </tr>\n",
       "    <tr>\n",
       "      <th>1024435</th>\n",
       "      <td>2022-09-22 11:20:00.984</td>\n",
       "      <td>24.944444</td>\n",
       "    </tr>\n",
       "    <tr>\n",
       "      <th>1024436</th>\n",
       "      <td>2022-09-22 11:21:00.231</td>\n",
       "      <td>24.944444</td>\n",
       "    </tr>\n",
       "    <tr>\n",
       "      <th>1024437</th>\n",
       "      <td>2022-09-22 11:22:00.449</td>\n",
       "      <td>24.944444</td>\n",
       "    </tr>\n",
       "  </tbody>\n",
       "</table>\n",
       "<p>1024438 rows × 2 columns</p>\n",
       "</div>"
      ],
      "text/plain": [
       "                        DateTime  Temperature\n",
       "0        2020-10-18 17:46:00.714    14.000000\n",
       "1        2020-10-18 17:47:00.844    14.000000\n",
       "2        2020-10-18 17:48:00.897    14.000000\n",
       "3        2020-10-18 17:49:00.948    14.000000\n",
       "4        2020-10-18 17:50:00.996    14.000000\n",
       "...                          ...          ...\n",
       "1024433  2022-09-22 11:18:00.545    24.944444\n",
       "1024434  2022-09-22 11:19:00.768    24.944444\n",
       "1024435  2022-09-22 11:20:00.984    24.944444\n",
       "1024436  2022-09-22 11:21:00.231    24.944444\n",
       "1024437  2022-09-22 11:22:00.449    24.944444\n",
       "\n",
       "[1024438 rows x 2 columns]"
      ]
     },
     "execution_count": 23,
     "metadata": {},
     "output_type": "execute_result"
    }
   ],
   "source": [
    "node4temp"
   ]
  },
  {
   "cell_type": "markdown",
   "id": "1383bdce-9d5b-4e3a-9353-87812e4a8243",
   "metadata": {},
   "source": [
    "We have proper column names now.  Let's now check the data types."
   ]
  },
  {
   "cell_type": "code",
   "execution_count": 26,
   "id": "a82002c5-f40c-437d-9d7f-fd60f7379a43",
   "metadata": {},
   "outputs": [
    {
     "data": {
      "text/plain": [
       "(dtype('O'), dtype('float64'))"
      ]
     },
     "execution_count": 26,
     "metadata": {},
     "output_type": "execute_result"
    }
   ],
   "source": [
    "node4temp['DateTime'].dtype, node4temp['Temperature'].dtype"
   ]
  },
  {
   "cell_type": "markdown",
   "id": "e5638923-17e0-4203-a05b-2b43ed677677",
   "metadata": {},
   "source": [
    "The float64 for the temperature value looks good, but you can see that the data type of the DateTime colun is dtype('O'), which means it is a Python object.  We really want it to be a date-time, which would be dtype('<M8[ns]') or dtype('datetime64[ns]').  Let's parse the data again, but this time, supply the parse_dates argument, which you can read about by searching for it on this page https://pandas.pydata.org/docs/reference/api/pandas.read_csv.html.  We will use parse_dates=[0], which is a list (one column in this case), meaning it should parse the 0th column as a datetime."
   ]
  },
  {
   "cell_type": "code",
   "execution_count": 29,
   "id": "570efa64-a795-4129-b383-8e3b4d33e0e4",
   "metadata": {},
   "outputs": [],
   "source": [
    "node4temp = pd.read_csv('sensor_data/node4temp.csv', names=['DateTime','Temperature'], parse_dates=[0])"
   ]
  },
  {
   "cell_type": "markdown",
   "id": "660ff5cd-ae22-4ee1-9b9a-f66ea22eeecd",
   "metadata": {},
   "source": [
    "Now when we check the data type of the DateTime column, it is a little-endian version of dtype('datetime64[ns]'), which is dtype('<M8[ns]').  On a big-endian computer, it would be dtype('>M8[ns]').\n",
    "Another way to do this would have been to use the pd.to_datetime() function\n",
    "node4temp['DateTime'] = pd.to_datetime(node4temp['DateTime'])"
   ]
  },
  {
   "cell_type": "code",
   "execution_count": 34,
   "id": "fcf16ede-d098-46ab-bae0-58d7e68707eb",
   "metadata": {},
   "outputs": [
    {
     "data": {
      "text/plain": [
       "dtype('<M8[ns]')"
      ]
     },
     "execution_count": 34,
     "metadata": {},
     "output_type": "execute_result"
    }
   ],
   "source": [
    "node4temp['DateTime'].dtype"
   ]
  },
  {
   "cell_type": "markdown",
   "id": "018705b4-d2f0-48ca-8097-83d42453a57c",
   "metadata": {},
   "source": [
    "We can see the parsed DateTime column represents the same dates and times as before, but now more efficiently"
   ]
  },
  {
   "cell_type": "code",
   "execution_count": 36,
   "id": "26ca5c6d-c5ca-4299-8ae0-8861045d30c7",
   "metadata": {},
   "outputs": [
    {
     "data": {
      "text/html": [
       "<div>\n",
       "<style scoped>\n",
       "    .dataframe tbody tr th:only-of-type {\n",
       "        vertical-align: middle;\n",
       "    }\n",
       "\n",
       "    .dataframe tbody tr th {\n",
       "        vertical-align: top;\n",
       "    }\n",
       "\n",
       "    .dataframe thead th {\n",
       "        text-align: right;\n",
       "    }\n",
       "</style>\n",
       "<table border=\"1\" class=\"dataframe\">\n",
       "  <thead>\n",
       "    <tr style=\"text-align: right;\">\n",
       "      <th></th>\n",
       "      <th>DateTime</th>\n",
       "      <th>Temperature</th>\n",
       "    </tr>\n",
       "  </thead>\n",
       "  <tbody>\n",
       "    <tr>\n",
       "      <th>0</th>\n",
       "      <td>2020-10-18 17:46:00.714</td>\n",
       "      <td>14.000000</td>\n",
       "    </tr>\n",
       "    <tr>\n",
       "      <th>1</th>\n",
       "      <td>2020-10-18 17:47:00.844</td>\n",
       "      <td>14.000000</td>\n",
       "    </tr>\n",
       "    <tr>\n",
       "      <th>2</th>\n",
       "      <td>2020-10-18 17:48:00.897</td>\n",
       "      <td>14.000000</td>\n",
       "    </tr>\n",
       "    <tr>\n",
       "      <th>3</th>\n",
       "      <td>2020-10-18 17:49:00.948</td>\n",
       "      <td>14.000000</td>\n",
       "    </tr>\n",
       "    <tr>\n",
       "      <th>4</th>\n",
       "      <td>2020-10-18 17:50:00.996</td>\n",
       "      <td>14.000000</td>\n",
       "    </tr>\n",
       "    <tr>\n",
       "      <th>...</th>\n",
       "      <td>...</td>\n",
       "      <td>...</td>\n",
       "    </tr>\n",
       "    <tr>\n",
       "      <th>1024433</th>\n",
       "      <td>2022-09-22 11:18:00.545</td>\n",
       "      <td>24.944444</td>\n",
       "    </tr>\n",
       "    <tr>\n",
       "      <th>1024434</th>\n",
       "      <td>2022-09-22 11:19:00.768</td>\n",
       "      <td>24.944444</td>\n",
       "    </tr>\n",
       "    <tr>\n",
       "      <th>1024435</th>\n",
       "      <td>2022-09-22 11:20:00.984</td>\n",
       "      <td>24.944444</td>\n",
       "    </tr>\n",
       "    <tr>\n",
       "      <th>1024436</th>\n",
       "      <td>2022-09-22 11:21:00.231</td>\n",
       "      <td>24.944444</td>\n",
       "    </tr>\n",
       "    <tr>\n",
       "      <th>1024437</th>\n",
       "      <td>2022-09-22 11:22:00.449</td>\n",
       "      <td>24.944444</td>\n",
       "    </tr>\n",
       "  </tbody>\n",
       "</table>\n",
       "<p>1024438 rows × 2 columns</p>\n",
       "</div>"
      ],
      "text/plain": [
       "                       DateTime  Temperature\n",
       "0       2020-10-18 17:46:00.714    14.000000\n",
       "1       2020-10-18 17:47:00.844    14.000000\n",
       "2       2020-10-18 17:48:00.897    14.000000\n",
       "3       2020-10-18 17:49:00.948    14.000000\n",
       "4       2020-10-18 17:50:00.996    14.000000\n",
       "...                         ...          ...\n",
       "1024433 2022-09-22 11:18:00.545    24.944444\n",
       "1024434 2022-09-22 11:19:00.768    24.944444\n",
       "1024435 2022-09-22 11:20:00.984    24.944444\n",
       "1024436 2022-09-22 11:21:00.231    24.944444\n",
       "1024437 2022-09-22 11:22:00.449    24.944444\n",
       "\n",
       "[1024438 rows x 2 columns]"
      ]
     },
     "execution_count": 36,
     "metadata": {},
     "output_type": "execute_result"
    }
   ],
   "source": [
    "node4temp"
   ]
  },
  {
   "cell_type": "markdown",
   "id": "56ea58bd-b9e7-406a-9b5a-d94f37715191",
   "metadata": {},
   "source": [
    "We will set the DateTime column as the index."
   ]
  },
  {
   "cell_type": "code",
   "execution_count": 38,
   "id": "c25dbe37-294e-4d52-a18c-4aaf8f8e534d",
   "metadata": {},
   "outputs": [],
   "source": [
    "node4temp.set_index('DateTime', inplace=True)"
   ]
  },
  {
   "cell_type": "code",
   "execution_count": 40,
   "id": "d576352d",
   "metadata": {},
   "outputs": [
    {
     "data": {
      "text/html": [
       "<div>\n",
       "<style scoped>\n",
       "    .dataframe tbody tr th:only-of-type {\n",
       "        vertical-align: middle;\n",
       "    }\n",
       "\n",
       "    .dataframe tbody tr th {\n",
       "        vertical-align: top;\n",
       "    }\n",
       "\n",
       "    .dataframe thead th {\n",
       "        text-align: right;\n",
       "    }\n",
       "</style>\n",
       "<table border=\"1\" class=\"dataframe\">\n",
       "  <thead>\n",
       "    <tr style=\"text-align: right;\">\n",
       "      <th></th>\n",
       "      <th>Temperature</th>\n",
       "    </tr>\n",
       "    <tr>\n",
       "      <th>DateTime</th>\n",
       "      <th></th>\n",
       "    </tr>\n",
       "  </thead>\n",
       "  <tbody>\n",
       "    <tr>\n",
       "      <th>2020-10-18 17:46:00.714</th>\n",
       "      <td>14.000000</td>\n",
       "    </tr>\n",
       "    <tr>\n",
       "      <th>2020-10-18 17:47:00.844</th>\n",
       "      <td>14.000000</td>\n",
       "    </tr>\n",
       "    <tr>\n",
       "      <th>2020-10-18 17:48:00.897</th>\n",
       "      <td>14.000000</td>\n",
       "    </tr>\n",
       "    <tr>\n",
       "      <th>2020-10-18 17:49:00.948</th>\n",
       "      <td>14.000000</td>\n",
       "    </tr>\n",
       "    <tr>\n",
       "      <th>2020-10-18 17:50:00.996</th>\n",
       "      <td>14.000000</td>\n",
       "    </tr>\n",
       "    <tr>\n",
       "      <th>...</th>\n",
       "      <td>...</td>\n",
       "    </tr>\n",
       "    <tr>\n",
       "      <th>2022-09-22 11:18:00.545</th>\n",
       "      <td>24.944444</td>\n",
       "    </tr>\n",
       "    <tr>\n",
       "      <th>2022-09-22 11:19:00.768</th>\n",
       "      <td>24.944444</td>\n",
       "    </tr>\n",
       "    <tr>\n",
       "      <th>2022-09-22 11:20:00.984</th>\n",
       "      <td>24.944444</td>\n",
       "    </tr>\n",
       "    <tr>\n",
       "      <th>2022-09-22 11:21:00.231</th>\n",
       "      <td>24.944444</td>\n",
       "    </tr>\n",
       "    <tr>\n",
       "      <th>2022-09-22 11:22:00.449</th>\n",
       "      <td>24.944444</td>\n",
       "    </tr>\n",
       "  </tbody>\n",
       "</table>\n",
       "<p>1024438 rows × 1 columns</p>\n",
       "</div>"
      ],
      "text/plain": [
       "                         Temperature\n",
       "DateTime                            \n",
       "2020-10-18 17:46:00.714    14.000000\n",
       "2020-10-18 17:47:00.844    14.000000\n",
       "2020-10-18 17:48:00.897    14.000000\n",
       "2020-10-18 17:49:00.948    14.000000\n",
       "2020-10-18 17:50:00.996    14.000000\n",
       "...                              ...\n",
       "2022-09-22 11:18:00.545    24.944444\n",
       "2022-09-22 11:19:00.768    24.944444\n",
       "2022-09-22 11:20:00.984    24.944444\n",
       "2022-09-22 11:21:00.231    24.944444\n",
       "2022-09-22 11:22:00.449    24.944444\n",
       "\n",
       "[1024438 rows x 1 columns]"
      ]
     },
     "execution_count": 40,
     "metadata": {},
     "output_type": "execute_result"
    }
   ],
   "source": [
    "node4temp"
   ]
  },
  {
   "cell_type": "markdown",
   "id": "54e1dbc0",
   "metadata": {},
   "source": [
    "We can the type of our index and see it has a datetime64 type:"
   ]
  },
  {
   "cell_type": "code",
   "execution_count": 42,
   "id": "a8577338",
   "metadata": {},
   "outputs": [
    {
     "data": {
      "text/plain": [
       "'datetime64'"
      ]
     },
     "execution_count": 42,
     "metadata": {},
     "output_type": "execute_result"
    }
   ],
   "source": [
    "node4temp.index.inferred_type"
   ]
  },
  {
   "cell_type": "markdown",
   "id": "29336a3b-4cd9-404d-b416-d65b4ab8adc6",
   "metadata": {},
   "source": [
    "We can use the loc attribute (Deitel 7.14.2) to retrieve the rows for December 25, 2021 as in the cell below.  Note that if the DateTime were a non-index datetime column, we could use boolean indexing: onedayDec252021 = node4temp[(node4temp['DateTime'] > pd.to_datetime('2021-12-25')) & (node4temp['DateTime'] < pd.to_datetime('2021-12-26'))]"
   ]
  },
  {
   "cell_type": "code",
   "execution_count": 44,
   "id": "8bed011b-6271-429b-bfb0-9fb254133adc",
   "metadata": {},
   "outputs": [
    {
     "data": {
      "text/html": [
       "<div>\n",
       "<style scoped>\n",
       "    .dataframe tbody tr th:only-of-type {\n",
       "        vertical-align: middle;\n",
       "    }\n",
       "\n",
       "    .dataframe tbody tr th {\n",
       "        vertical-align: top;\n",
       "    }\n",
       "\n",
       "    .dataframe thead th {\n",
       "        text-align: right;\n",
       "    }\n",
       "</style>\n",
       "<table border=\"1\" class=\"dataframe\">\n",
       "  <thead>\n",
       "    <tr style=\"text-align: right;\">\n",
       "      <th></th>\n",
       "      <th>Temperature</th>\n",
       "    </tr>\n",
       "    <tr>\n",
       "      <th>DateTime</th>\n",
       "      <th></th>\n",
       "    </tr>\n",
       "  </thead>\n",
       "  <tbody>\n",
       "    <tr>\n",
       "      <th>2021-12-25 00:00:00.254</th>\n",
       "      <td>20.833333</td>\n",
       "    </tr>\n",
       "    <tr>\n",
       "      <th>2021-12-25 00:01:00.414</th>\n",
       "      <td>20.833333</td>\n",
       "    </tr>\n",
       "    <tr>\n",
       "      <th>2021-12-25 00:02:00.575</th>\n",
       "      <td>20.833333</td>\n",
       "    </tr>\n",
       "    <tr>\n",
       "      <th>2021-12-25 00:03:00.745</th>\n",
       "      <td>20.833333</td>\n",
       "    </tr>\n",
       "    <tr>\n",
       "      <th>2021-12-25 00:04:00.908</th>\n",
       "      <td>20.833333</td>\n",
       "    </tr>\n",
       "    <tr>\n",
       "      <th>...</th>\n",
       "      <td>...</td>\n",
       "    </tr>\n",
       "    <tr>\n",
       "      <th>2021-12-25 23:55:01.020</th>\n",
       "      <td>21.388889</td>\n",
       "    </tr>\n",
       "    <tr>\n",
       "      <th>2021-12-25 23:56:00.181</th>\n",
       "      <td>21.388889</td>\n",
       "    </tr>\n",
       "    <tr>\n",
       "      <th>2021-12-25 23:57:00.340</th>\n",
       "      <td>21.388889</td>\n",
       "    </tr>\n",
       "    <tr>\n",
       "      <th>2021-12-25 23:58:00.504</th>\n",
       "      <td>21.388889</td>\n",
       "    </tr>\n",
       "    <tr>\n",
       "      <th>2021-12-25 23:59:00.673</th>\n",
       "      <td>21.388889</td>\n",
       "    </tr>\n",
       "  </tbody>\n",
       "</table>\n",
       "<p>1455 rows × 1 columns</p>\n",
       "</div>"
      ],
      "text/plain": [
       "                         Temperature\n",
       "DateTime                            \n",
       "2021-12-25 00:00:00.254    20.833333\n",
       "2021-12-25 00:01:00.414    20.833333\n",
       "2021-12-25 00:02:00.575    20.833333\n",
       "2021-12-25 00:03:00.745    20.833333\n",
       "2021-12-25 00:04:00.908    20.833333\n",
       "...                              ...\n",
       "2021-12-25 23:55:01.020    21.388889\n",
       "2021-12-25 23:56:00.181    21.388889\n",
       "2021-12-25 23:57:00.340    21.388889\n",
       "2021-12-25 23:58:00.504    21.388889\n",
       "2021-12-25 23:59:00.673    21.388889\n",
       "\n",
       "[1455 rows x 1 columns]"
      ]
     },
     "execution_count": 44,
     "metadata": {},
     "output_type": "execute_result"
    }
   ],
   "source": [
    "node4temp.loc['2021-12-25']"
   ]
  },
  {
   "cell_type": "markdown",
   "id": "956a83d1-98c5-4678-aa09-a0762051da25",
   "metadata": {},
   "source": [
    "We can try to retrieve 2 days with slicing, but this results in an error"
   ]
  },
  {
   "cell_type": "code",
   "execution_count": 46,
   "id": "5aee745a-0b71-4cfa-b114-4cf1dcbf11cb",
   "metadata": {},
   "outputs": [
    {
     "ename": "KeyError",
     "evalue": "'Value based partial slicing on non-monotonic DatetimeIndexes with non-existing keys is not allowed.'",
     "output_type": "error",
     "traceback": [
      "\u001b[1;31m---------------------------------------------------------------------------\u001b[0m",
      "\u001b[1;31mKeyError\u001b[0m                                  Traceback (most recent call last)",
      "Cell \u001b[1;32mIn[46], line 1\u001b[0m\n\u001b[1;32m----> 1\u001b[0m twodays \u001b[38;5;241m=\u001b[39m node4temp\u001b[38;5;241m.\u001b[39mloc[\u001b[38;5;124m'\u001b[39m\u001b[38;5;124m2021-12-25\u001b[39m\u001b[38;5;124m'\u001b[39m:\u001b[38;5;124m'\u001b[39m\u001b[38;5;124m2021-12-26\u001b[39m\u001b[38;5;124m'\u001b[39m]\n",
      "File \u001b[1;32m~\\anaconda3\\Lib\\site-packages\\pandas\\core\\indexing.py:1191\u001b[0m, in \u001b[0;36m_LocationIndexer.__getitem__\u001b[1;34m(self, key)\u001b[0m\n\u001b[0;32m   1189\u001b[0m maybe_callable \u001b[38;5;241m=\u001b[39m com\u001b[38;5;241m.\u001b[39mapply_if_callable(key, \u001b[38;5;28mself\u001b[39m\u001b[38;5;241m.\u001b[39mobj)\n\u001b[0;32m   1190\u001b[0m maybe_callable \u001b[38;5;241m=\u001b[39m \u001b[38;5;28mself\u001b[39m\u001b[38;5;241m.\u001b[39m_check_deprecated_callable_usage(key, maybe_callable)\n\u001b[1;32m-> 1191\u001b[0m \u001b[38;5;28;01mreturn\u001b[39;00m \u001b[38;5;28mself\u001b[39m\u001b[38;5;241m.\u001b[39m_getitem_axis(maybe_callable, axis\u001b[38;5;241m=\u001b[39maxis)\n",
      "File \u001b[1;32m~\\anaconda3\\Lib\\site-packages\\pandas\\core\\indexing.py:1411\u001b[0m, in \u001b[0;36m_LocIndexer._getitem_axis\u001b[1;34m(self, key, axis)\u001b[0m\n\u001b[0;32m   1409\u001b[0m \u001b[38;5;28;01mif\u001b[39;00m \u001b[38;5;28misinstance\u001b[39m(key, \u001b[38;5;28mslice\u001b[39m):\n\u001b[0;32m   1410\u001b[0m     \u001b[38;5;28mself\u001b[39m\u001b[38;5;241m.\u001b[39m_validate_key(key, axis)\n\u001b[1;32m-> 1411\u001b[0m     \u001b[38;5;28;01mreturn\u001b[39;00m \u001b[38;5;28mself\u001b[39m\u001b[38;5;241m.\u001b[39m_get_slice_axis(key, axis\u001b[38;5;241m=\u001b[39maxis)\n\u001b[0;32m   1412\u001b[0m \u001b[38;5;28;01melif\u001b[39;00m com\u001b[38;5;241m.\u001b[39mis_bool_indexer(key):\n\u001b[0;32m   1413\u001b[0m     \u001b[38;5;28;01mreturn\u001b[39;00m \u001b[38;5;28mself\u001b[39m\u001b[38;5;241m.\u001b[39m_getbool_axis(key, axis\u001b[38;5;241m=\u001b[39maxis)\n",
      "File \u001b[1;32m~\\anaconda3\\Lib\\site-packages\\pandas\\core\\indexing.py:1443\u001b[0m, in \u001b[0;36m_LocIndexer._get_slice_axis\u001b[1;34m(self, slice_obj, axis)\u001b[0m\n\u001b[0;32m   1440\u001b[0m     \u001b[38;5;28;01mreturn\u001b[39;00m obj\u001b[38;5;241m.\u001b[39mcopy(deep\u001b[38;5;241m=\u001b[39m\u001b[38;5;28;01mFalse\u001b[39;00m)\n\u001b[0;32m   1442\u001b[0m labels \u001b[38;5;241m=\u001b[39m obj\u001b[38;5;241m.\u001b[39m_get_axis(axis)\n\u001b[1;32m-> 1443\u001b[0m indexer \u001b[38;5;241m=\u001b[39m labels\u001b[38;5;241m.\u001b[39mslice_indexer(slice_obj\u001b[38;5;241m.\u001b[39mstart, slice_obj\u001b[38;5;241m.\u001b[39mstop, slice_obj\u001b[38;5;241m.\u001b[39mstep)\n\u001b[0;32m   1445\u001b[0m \u001b[38;5;28;01mif\u001b[39;00m \u001b[38;5;28misinstance\u001b[39m(indexer, \u001b[38;5;28mslice\u001b[39m):\n\u001b[0;32m   1446\u001b[0m     \u001b[38;5;28;01mreturn\u001b[39;00m \u001b[38;5;28mself\u001b[39m\u001b[38;5;241m.\u001b[39mobj\u001b[38;5;241m.\u001b[39m_slice(indexer, axis\u001b[38;5;241m=\u001b[39maxis)\n",
      "File \u001b[1;32m~\\anaconda3\\Lib\\site-packages\\pandas\\core\\indexes\\datetimes.py:697\u001b[0m, in \u001b[0;36mDatetimeIndex.slice_indexer\u001b[1;34m(self, start, end, step)\u001b[0m\n\u001b[0;32m    694\u001b[0m     in_index \u001b[38;5;241m&\u001b[39m\u001b[38;5;241m=\u001b[39m (end_casted \u001b[38;5;241m==\u001b[39m \u001b[38;5;28mself\u001b[39m)\u001b[38;5;241m.\u001b[39many()\n\u001b[0;32m    696\u001b[0m \u001b[38;5;28;01mif\u001b[39;00m \u001b[38;5;129;01mnot\u001b[39;00m in_index:\n\u001b[1;32m--> 697\u001b[0m     \u001b[38;5;28;01mraise\u001b[39;00m \u001b[38;5;167;01mKeyError\u001b[39;00m(\n\u001b[0;32m    698\u001b[0m         \u001b[38;5;124m\"\u001b[39m\u001b[38;5;124mValue based partial slicing on non-monotonic DatetimeIndexes \u001b[39m\u001b[38;5;124m\"\u001b[39m\n\u001b[0;32m    699\u001b[0m         \u001b[38;5;124m\"\u001b[39m\u001b[38;5;124mwith non-existing keys is not allowed.\u001b[39m\u001b[38;5;124m\"\u001b[39m,\n\u001b[0;32m    700\u001b[0m     )\n\u001b[0;32m    701\u001b[0m indexer \u001b[38;5;241m=\u001b[39m mask\u001b[38;5;241m.\u001b[39mnonzero()[\u001b[38;5;241m0\u001b[39m][::step]\n\u001b[0;32m    702\u001b[0m \u001b[38;5;28;01mif\u001b[39;00m \u001b[38;5;28mlen\u001b[39m(indexer) \u001b[38;5;241m==\u001b[39m \u001b[38;5;28mlen\u001b[39m(\u001b[38;5;28mself\u001b[39m):\n",
      "\u001b[1;31mKeyError\u001b[0m: 'Value based partial slicing on non-monotonic DatetimeIndexes with non-existing keys is not allowed.'"
     ]
    }
   ],
   "source": [
    "twodays = node4temp.loc['2021-12-25':'2021-12-26']"
   ]
  },
  {
   "cell_type": "markdown",
   "id": "f40fff07-abf6-4d2d-9796-ee9fd8ac6f89",
   "metadata": {},
   "source": [
    "To address this error, we will sort the index to ensure it is monotonic.  Once the index\n",
    "is sorted, it is guaranteed to be monotonic (in this case, always increasing)."
   ]
  },
  {
   "cell_type": "code",
   "execution_count": 48,
   "id": "551a568d-361e-4a87-8c6f-511a0650c47e",
   "metadata": {},
   "outputs": [],
   "source": [
    "node4temp.sort_index(inplace=True)"
   ]
  },
  {
   "cell_type": "markdown",
   "id": "ae50a068-5a80-42f4-9c1f-550310fcf873",
   "metadata": {},
   "source": [
    "Now that the index is sorted and therefore guaranteed to be monotonic, we can use slices with loc and non-existant values.  '2021-12-25' is a\n",
    "non-existent value because '2021-12-25 00:00:00.000' is not actually in the data."
   ]
  },
  {
   "cell_type": "code",
   "execution_count": 50,
   "id": "914d0b84-7cb4-4ede-ab07-af56d7bf8b54",
   "metadata": {},
   "outputs": [
    {
     "data": {
      "text/html": [
       "<div>\n",
       "<style scoped>\n",
       "    .dataframe tbody tr th:only-of-type {\n",
       "        vertical-align: middle;\n",
       "    }\n",
       "\n",
       "    .dataframe tbody tr th {\n",
       "        vertical-align: top;\n",
       "    }\n",
       "\n",
       "    .dataframe thead th {\n",
       "        text-align: right;\n",
       "    }\n",
       "</style>\n",
       "<table border=\"1\" class=\"dataframe\">\n",
       "  <thead>\n",
       "    <tr style=\"text-align: right;\">\n",
       "      <th></th>\n",
       "      <th>Temperature</th>\n",
       "    </tr>\n",
       "    <tr>\n",
       "      <th>DateTime</th>\n",
       "      <th></th>\n",
       "    </tr>\n",
       "  </thead>\n",
       "  <tbody>\n",
       "    <tr>\n",
       "      <th>2021-12-25 00:00:00.254</th>\n",
       "      <td>20.833333</td>\n",
       "    </tr>\n",
       "    <tr>\n",
       "      <th>2021-12-25 00:01:00.414</th>\n",
       "      <td>20.833333</td>\n",
       "    </tr>\n",
       "    <tr>\n",
       "      <th>2021-12-25 00:02:00.575</th>\n",
       "      <td>20.833333</td>\n",
       "    </tr>\n",
       "    <tr>\n",
       "      <th>2021-12-25 00:03:00.745</th>\n",
       "      <td>20.833333</td>\n",
       "    </tr>\n",
       "    <tr>\n",
       "      <th>2021-12-25 00:04:00.908</th>\n",
       "      <td>20.833333</td>\n",
       "    </tr>\n",
       "    <tr>\n",
       "      <th>...</th>\n",
       "      <td>...</td>\n",
       "    </tr>\n",
       "    <tr>\n",
       "      <th>2021-12-26 23:55:00.540</th>\n",
       "      <td>21.500000</td>\n",
       "    </tr>\n",
       "    <tr>\n",
       "      <th>2021-12-26 23:56:00.713</th>\n",
       "      <td>21.500000</td>\n",
       "    </tr>\n",
       "    <tr>\n",
       "      <th>2021-12-26 23:57:00.883</th>\n",
       "      <td>21.500000</td>\n",
       "    </tr>\n",
       "    <tr>\n",
       "      <th>2021-12-26 23:58:01.051</th>\n",
       "      <td>21.500000</td>\n",
       "    </tr>\n",
       "    <tr>\n",
       "      <th>2021-12-26 23:59:00.226</th>\n",
       "      <td>21.500000</td>\n",
       "    </tr>\n",
       "  </tbody>\n",
       "</table>\n",
       "<p>2908 rows × 1 columns</p>\n",
       "</div>"
      ],
      "text/plain": [
       "                         Temperature\n",
       "DateTime                            \n",
       "2021-12-25 00:00:00.254    20.833333\n",
       "2021-12-25 00:01:00.414    20.833333\n",
       "2021-12-25 00:02:00.575    20.833333\n",
       "2021-12-25 00:03:00.745    20.833333\n",
       "2021-12-25 00:04:00.908    20.833333\n",
       "...                              ...\n",
       "2021-12-26 23:55:00.540    21.500000\n",
       "2021-12-26 23:56:00.713    21.500000\n",
       "2021-12-26 23:57:00.883    21.500000\n",
       "2021-12-26 23:58:01.051    21.500000\n",
       "2021-12-26 23:59:00.226    21.500000\n",
       "\n",
       "[2908 rows x 1 columns]"
      ]
     },
     "execution_count": 50,
     "metadata": {},
     "output_type": "execute_result"
    }
   ],
   "source": [
    "node4temp.loc['2021-12-25':'2021-12-26']"
   ]
  },
  {
   "cell_type": "markdown",
   "id": "cf29d5a3-9d90-4b01-a09e-e333f1a85b80",
   "metadata": {},
   "source": [
    "With the loc attribute, we can retrieve the rows for December, 2021"
   ]
  },
  {
   "cell_type": "code",
   "execution_count": 52,
   "id": "372bc279-827a-4db0-bd84-13d6a63ecfd3",
   "metadata": {},
   "outputs": [
    {
     "data": {
      "text/html": [
       "<div>\n",
       "<style scoped>\n",
       "    .dataframe tbody tr th:only-of-type {\n",
       "        vertical-align: middle;\n",
       "    }\n",
       "\n",
       "    .dataframe tbody tr th {\n",
       "        vertical-align: top;\n",
       "    }\n",
       "\n",
       "    .dataframe thead th {\n",
       "        text-align: right;\n",
       "    }\n",
       "</style>\n",
       "<table border=\"1\" class=\"dataframe\">\n",
       "  <thead>\n",
       "    <tr style=\"text-align: right;\">\n",
       "      <th></th>\n",
       "      <th>Temperature</th>\n",
       "    </tr>\n",
       "    <tr>\n",
       "      <th>DateTime</th>\n",
       "      <th></th>\n",
       "    </tr>\n",
       "  </thead>\n",
       "  <tbody>\n",
       "    <tr>\n",
       "      <th>2021-12-01 00:00:00.943</th>\n",
       "      <td>19.611111</td>\n",
       "    </tr>\n",
       "    <tr>\n",
       "      <th>2021-12-01 00:01:01.098</th>\n",
       "      <td>19.611111</td>\n",
       "    </tr>\n",
       "    <tr>\n",
       "      <th>2021-12-01 00:02:00.257</th>\n",
       "      <td>19.611111</td>\n",
       "    </tr>\n",
       "    <tr>\n",
       "      <th>2021-12-01 00:03:00.411</th>\n",
       "      <td>19.611111</td>\n",
       "    </tr>\n",
       "    <tr>\n",
       "      <th>2021-12-01 00:04:00.560</th>\n",
       "      <td>19.611111</td>\n",
       "    </tr>\n",
       "    <tr>\n",
       "      <th>...</th>\n",
       "      <td>...</td>\n",
       "    </tr>\n",
       "    <tr>\n",
       "      <th>2021-12-31 23:55:00.347</th>\n",
       "      <td>13.000000</td>\n",
       "    </tr>\n",
       "    <tr>\n",
       "      <th>2021-12-31 23:56:00.510</th>\n",
       "      <td>13.000000</td>\n",
       "    </tr>\n",
       "    <tr>\n",
       "      <th>2021-12-31 23:57:00.667</th>\n",
       "      <td>13.000000</td>\n",
       "    </tr>\n",
       "    <tr>\n",
       "      <th>2021-12-31 23:58:00.833</th>\n",
       "      <td>13.000000</td>\n",
       "    </tr>\n",
       "    <tr>\n",
       "      <th>2021-12-31 23:59:00.999</th>\n",
       "      <td>13.000000</td>\n",
       "    </tr>\n",
       "  </tbody>\n",
       "</table>\n",
       "<p>45184 rows × 1 columns</p>\n",
       "</div>"
      ],
      "text/plain": [
       "                         Temperature\n",
       "DateTime                            \n",
       "2021-12-01 00:00:00.943    19.611111\n",
       "2021-12-01 00:01:01.098    19.611111\n",
       "2021-12-01 00:02:00.257    19.611111\n",
       "2021-12-01 00:03:00.411    19.611111\n",
       "2021-12-01 00:04:00.560    19.611111\n",
       "...                              ...\n",
       "2021-12-31 23:55:00.347    13.000000\n",
       "2021-12-31 23:56:00.510    13.000000\n",
       "2021-12-31 23:57:00.667    13.000000\n",
       "2021-12-31 23:58:00.833    13.000000\n",
       "2021-12-31 23:59:00.999    13.000000\n",
       "\n",
       "[45184 rows x 1 columns]"
      ]
     },
     "execution_count": 52,
     "metadata": {},
     "output_type": "execute_result"
    }
   ],
   "source": [
    "node4temp.loc['2021-12']"
   ]
  },
  {
   "cell_type": "markdown",
   "id": "5d50f498-7b2a-4a21-9524-a3ab45c35102",
   "metadata": {},
   "source": [
    "We can also use boolean indexing to retrieve rows that satisfy various conditions, like Temperature = 20"
   ]
  },
  {
   "cell_type": "code",
   "execution_count": 54,
   "id": "8c8b8c5d-9f2d-4fcb-b200-efdfacd65887",
   "metadata": {},
   "outputs": [
    {
     "data": {
      "text/html": [
       "<div>\n",
       "<style scoped>\n",
       "    .dataframe tbody tr th:only-of-type {\n",
       "        vertical-align: middle;\n",
       "    }\n",
       "\n",
       "    .dataframe tbody tr th {\n",
       "        vertical-align: top;\n",
       "    }\n",
       "\n",
       "    .dataframe thead th {\n",
       "        text-align: right;\n",
       "    }\n",
       "</style>\n",
       "<table border=\"1\" class=\"dataframe\">\n",
       "  <thead>\n",
       "    <tr style=\"text-align: right;\">\n",
       "      <th></th>\n",
       "      <th>Temperature</th>\n",
       "    </tr>\n",
       "    <tr>\n",
       "      <th>DateTime</th>\n",
       "      <th></th>\n",
       "    </tr>\n",
       "  </thead>\n",
       "  <tbody>\n",
       "    <tr>\n",
       "      <th>2020-12-03 16:53:11.915</th>\n",
       "      <td>20.0</td>\n",
       "    </tr>\n",
       "    <tr>\n",
       "      <th>2020-12-03 16:54:00.057</th>\n",
       "      <td>20.0</td>\n",
       "    </tr>\n",
       "    <tr>\n",
       "      <th>2020-12-03 16:55:00.118</th>\n",
       "      <td>20.0</td>\n",
       "    </tr>\n",
       "    <tr>\n",
       "      <th>2020-12-03 16:56:00.181</th>\n",
       "      <td>20.0</td>\n",
       "    </tr>\n",
       "    <tr>\n",
       "      <th>2020-12-03 16:57:00.238</th>\n",
       "      <td>20.0</td>\n",
       "    </tr>\n",
       "    <tr>\n",
       "      <th>...</th>\n",
       "      <td>...</td>\n",
       "    </tr>\n",
       "    <tr>\n",
       "      <th>2022-06-05 00:54:00.972</th>\n",
       "      <td>20.0</td>\n",
       "    </tr>\n",
       "    <tr>\n",
       "      <th>2022-06-05 00:55:01.135</th>\n",
       "      <td>20.0</td>\n",
       "    </tr>\n",
       "    <tr>\n",
       "      <th>2022-06-05 00:56:00.300</th>\n",
       "      <td>20.0</td>\n",
       "    </tr>\n",
       "    <tr>\n",
       "      <th>2022-06-05 00:57:00.462</th>\n",
       "      <td>20.0</td>\n",
       "    </tr>\n",
       "    <tr>\n",
       "      <th>2022-06-05 00:58:00.628</th>\n",
       "      <td>20.0</td>\n",
       "    </tr>\n",
       "  </tbody>\n",
       "</table>\n",
       "<p>7777 rows × 1 columns</p>\n",
       "</div>"
      ],
      "text/plain": [
       "                         Temperature\n",
       "DateTime                            \n",
       "2020-12-03 16:53:11.915         20.0\n",
       "2020-12-03 16:54:00.057         20.0\n",
       "2020-12-03 16:55:00.118         20.0\n",
       "2020-12-03 16:56:00.181         20.0\n",
       "2020-12-03 16:57:00.238         20.0\n",
       "...                              ...\n",
       "2022-06-05 00:54:00.972         20.0\n",
       "2022-06-05 00:55:01.135         20.0\n",
       "2022-06-05 00:56:00.300         20.0\n",
       "2022-06-05 00:57:00.462         20.0\n",
       "2022-06-05 00:58:00.628         20.0\n",
       "\n",
       "[7777 rows x 1 columns]"
      ]
     },
     "execution_count": 54,
     "metadata": {},
     "output_type": "execute_result"
    }
   ],
   "source": [
    "node4temp[node4temp['Temperature'] == 20]"
   ]
  },
  {
   "cell_type": "markdown",
   "id": "eae04fc4-94a0-4f2b-80bc-8ef7eac435ab",
   "metadata": {},
   "source": [
    "Let's plot the data for December 25, 2021\n"
   ]
  },
  {
   "cell_type": "code",
   "execution_count": 56,
   "id": "c09bd4ef-108e-4870-8ca8-8a4592a5d933",
   "metadata": {},
   "outputs": [
    {
     "data": {
      "image/png": "[encoded data removed]",
      "text/plain": [
       "<Figure size 640x480 with 1 Axes>"
      ]
     },
     "metadata": {},
     "output_type": "display_data"
    }
   ],
   "source": [
    "fig = plt.figure()\n",
    "ax = plt.axes()\n",
    "ax.plot(node4temp.loc['2021-12-25'])\n",
    "labels = plt.xticks(rotation='vertical')\n",
    "#insert code for title 'Node4 Temperature for Dec25'\n",
    "#insert code for xlabel 'datetime'\n",
    "#insert code for ylabel 'temperature'"
   ]
  },
  {
   "cell_type": "markdown",
   "id": "670a0b0d-2f6a-4558-878e-2efdea37f4f4",
   "metadata": {},
   "source": [
    "Now, let's truncate the DateTime values by rounding down to the second:"
   ]
  },
  {
   "cell_type": "code",
   "execution_count": 58,
   "id": "5cacb6c8-cc13-4eb1-b506-7bff406b4e82",
   "metadata": {},
   "outputs": [],
   "source": [
    "node4temp.index = node4temp.index.floor('s')"
   ]
  },
  {
   "cell_type": "markdown",
   "id": "f13d8c9f-5103-432e-a5ed-e03eaf99cc3c",
   "metadata": {},
   "source": [
    "Now the nanoseconds are gone from the DateTime.\n",
    "Notice that the sampling rate seems to be 1 minute, mostly exactly on the minute, but not in the first minutes of December 2021.  Write code in the cell below that will show just the first 15 minutes of December 2021:"
   ]
  },
  {
   "cell_type": "code",
   "execution_count": 60,
   "id": "068105d1-bb69-4393-ab10-9467db41caf4",
   "metadata": {},
   "outputs": [
    {
     "data": {
      "text/html": [
       "<div>\n",
       "<style scoped>\n",
       "    .dataframe tbody tr th:only-of-type {\n",
       "        vertical-align: middle;\n",
       "    }\n",
       "\n",
       "    .dataframe tbody tr th {\n",
       "        vertical-align: top;\n",
       "    }\n",
       "\n",
       "    .dataframe thead th {\n",
       "        text-align: right;\n",
       "    }\n",
       "</style>\n",
       "<table border=\"1\" class=\"dataframe\">\n",
       "  <thead>\n",
       "    <tr style=\"text-align: right;\">\n",
       "      <th></th>\n",
       "      <th>Temperature</th>\n",
       "    </tr>\n",
       "    <tr>\n",
       "      <th>DateTime</th>\n",
       "      <th></th>\n",
       "    </tr>\n",
       "  </thead>\n",
       "  <tbody>\n",
       "    <tr>\n",
       "      <th>2021-12-01 00:00:00</th>\n",
       "      <td>19.611111</td>\n",
       "    </tr>\n",
       "    <tr>\n",
       "      <th>2021-12-01 00:01:01</th>\n",
       "      <td>19.611111</td>\n",
       "    </tr>\n",
       "    <tr>\n",
       "      <th>2021-12-01 00:02:00</th>\n",
       "      <td>19.611111</td>\n",
       "    </tr>\n",
       "    <tr>\n",
       "      <th>2021-12-01 00:03:00</th>\n",
       "      <td>19.611111</td>\n",
       "    </tr>\n",
       "    <tr>\n",
       "      <th>2021-12-01 00:04:00</th>\n",
       "      <td>19.611111</td>\n",
       "    </tr>\n",
       "    <tr>\n",
       "      <th>2021-12-01 00:05:00</th>\n",
       "      <td>19.611111</td>\n",
       "    </tr>\n",
       "    <tr>\n",
       "      <th>2021-12-01 00:06:00</th>\n",
       "      <td>19.611111</td>\n",
       "    </tr>\n",
       "    <tr>\n",
       "      <th>2021-12-01 00:07:01</th>\n",
       "      <td>19.611111</td>\n",
       "    </tr>\n",
       "    <tr>\n",
       "      <th>2021-12-01 00:08:00</th>\n",
       "      <td>19.611111</td>\n",
       "    </tr>\n",
       "    <tr>\n",
       "      <th>2021-12-01 00:09:00</th>\n",
       "      <td>19.611111</td>\n",
       "    </tr>\n",
       "    <tr>\n",
       "      <th>2021-12-01 00:10:00</th>\n",
       "      <td>19.611111</td>\n",
       "    </tr>\n",
       "    <tr>\n",
       "      <th>2021-12-01 00:11:00</th>\n",
       "      <td>19.611111</td>\n",
       "    </tr>\n",
       "    <tr>\n",
       "      <th>2021-12-01 00:12:00</th>\n",
       "      <td>19.611111</td>\n",
       "    </tr>\n",
       "    <tr>\n",
       "      <th>2021-12-01 00:13:00</th>\n",
       "      <td>19.611111</td>\n",
       "    </tr>\n",
       "    <tr>\n",
       "      <th>2021-12-01 00:14:01</th>\n",
       "      <td>19.611111</td>\n",
       "    </tr>\n",
       "    <tr>\n",
       "      <th>2021-12-01 00:15:00</th>\n",
       "      <td>19.611111</td>\n",
       "    </tr>\n",
       "  </tbody>\n",
       "</table>\n",
       "</div>"
      ],
      "text/plain": [
       "                     Temperature\n",
       "DateTime                        \n",
       "2021-12-01 00:00:00    19.611111\n",
       "2021-12-01 00:01:01    19.611111\n",
       "2021-12-01 00:02:00    19.611111\n",
       "2021-12-01 00:03:00    19.611111\n",
       "2021-12-01 00:04:00    19.611111\n",
       "2021-12-01 00:05:00    19.611111\n",
       "2021-12-01 00:06:00    19.611111\n",
       "2021-12-01 00:07:01    19.611111\n",
       "2021-12-01 00:08:00    19.611111\n",
       "2021-12-01 00:09:00    19.611111\n",
       "2021-12-01 00:10:00    19.611111\n",
       "2021-12-01 00:11:00    19.611111\n",
       "2021-12-01 00:12:00    19.611111\n",
       "2021-12-01 00:13:00    19.611111\n",
       "2021-12-01 00:14:01    19.611111\n",
       "2021-12-01 00:15:00    19.611111"
      ]
     },
     "execution_count": 60,
     "metadata": {},
     "output_type": "execute_result"
    }
   ],
   "source": [
    "# insert code here to show the data for just the first 15 minutes of December 2021 from node4temp\n",
    "node4temp.loc['2021-12-01 00':'2021-12-01 ']"
   ]
  },
  {
   "cell_type": "markdown",
   "id": "bac369a6-52bc-4d16-97ea-94caaf8e6c54",
   "metadata": {},
   "source": [
    "Notice the temperature doesn't change quickly, and there are a couple of samples taken at the 1 second mark instead of at 0 seconds after the minute. We will now resample the data to make all the samples right on the minute (1min). Scroll down on this page to see the table for the different time periods: https://pandas.pydata.org/pandas-docs/stable/user_guide/timeseries.html#dateoffset-objects).  We will use the mean of possible multiple values during the minute.  \n",
    "Notice (YOU WILL NEED THIS KNOWLEDGE TO COMPLETE THE ASSIGNMENT):\n",
    "* Resampling the index produces a new DataFrame.  In the cell below, we keep just the new one.\n",
    "* Resampling a datatime index can be done based on other time periods like days, months, years, etc.\n",
    "* Resampling can use different aggregate functions, like mean, min, max, count, which are applied to the multiple values that fall within the resampling time period.  For example, resampling by month will involve aggregating many values from each month into one value for that month.\n",
    "The above points will be useful to you when you are asked to plot the monthly max temperature, for example."
   ]
  },
  {
   "cell_type": "code",
   "execution_count": 173,
   "id": "d7506e6c-cb80-44b6-b253-0be0993a0eb3",
   "metadata": {},
   "outputs": [],
   "source": [
    "node4temp = node4temp.resample('1min').mean()"
   ]
  },
  {
   "cell_type": "markdown",
   "id": "17f25121-e52a-4811-a364-b654d8372e19",
   "metadata": {},
   "source": [
    "After the above cell executes, we can see that we've replaced our original DataFrame with the new DataFrame.  If we had used a different variable name on the left side of the assignment, we would have both the new and the old DataFrames."
   ]
  },
  {
   "cell_type": "code",
   "execution_count": 64,
   "id": "b6ae98c6-57d1-44c6-b221-41106f50631e",
   "metadata": {},
   "outputs": [
    {
     "data": {
      "text/html": [
       "<div>\n",
       "<style scoped>\n",
       "    .dataframe tbody tr th:only-of-type {\n",
       "        vertical-align: middle;\n",
       "    }\n",
       "\n",
       "    .dataframe tbody tr th {\n",
       "        vertical-align: top;\n",
       "    }\n",
       "\n",
       "    .dataframe thead th {\n",
       "        text-align: right;\n",
       "    }\n",
       "</style>\n",
       "<table border=\"1\" class=\"dataframe\">\n",
       "  <thead>\n",
       "    <tr style=\"text-align: right;\">\n",
       "      <th></th>\n",
       "      <th>Temperature</th>\n",
       "    </tr>\n",
       "    <tr>\n",
       "      <th>DateTime</th>\n",
       "      <th></th>\n",
       "    </tr>\n",
       "  </thead>\n",
       "  <tbody>\n",
       "    <tr>\n",
       "      <th>2021-12-01 00:00:00</th>\n",
       "      <td>19.611111</td>\n",
       "    </tr>\n",
       "    <tr>\n",
       "      <th>2021-12-01 00:01:00</th>\n",
       "      <td>19.611111</td>\n",
       "    </tr>\n",
       "    <tr>\n",
       "      <th>2021-12-01 00:02:00</th>\n",
       "      <td>19.611111</td>\n",
       "    </tr>\n",
       "    <tr>\n",
       "      <th>2021-12-01 00:03:00</th>\n",
       "      <td>19.611111</td>\n",
       "    </tr>\n",
       "    <tr>\n",
       "      <th>2021-12-01 00:04:00</th>\n",
       "      <td>19.611111</td>\n",
       "    </tr>\n",
       "    <tr>\n",
       "      <th>...</th>\n",
       "      <td>...</td>\n",
       "    </tr>\n",
       "    <tr>\n",
       "      <th>2021-12-01 23:55:00</th>\n",
       "      <td>19.777778</td>\n",
       "    </tr>\n",
       "    <tr>\n",
       "      <th>2021-12-01 23:56:00</th>\n",
       "      <td>19.777778</td>\n",
       "    </tr>\n",
       "    <tr>\n",
       "      <th>2021-12-01 23:57:00</th>\n",
       "      <td>19.777778</td>\n",
       "    </tr>\n",
       "    <tr>\n",
       "      <th>2021-12-01 23:58:00</th>\n",
       "      <td>19.777778</td>\n",
       "    </tr>\n",
       "    <tr>\n",
       "      <th>2021-12-01 23:59:00</th>\n",
       "      <td>19.777778</td>\n",
       "    </tr>\n",
       "  </tbody>\n",
       "</table>\n",
       "<p>1440 rows × 1 columns</p>\n",
       "</div>"
      ],
      "text/plain": [
       "                     Temperature\n",
       "DateTime                        \n",
       "2021-12-01 00:00:00    19.611111\n",
       "2021-12-01 00:01:00    19.611111\n",
       "2021-12-01 00:02:00    19.611111\n",
       "2021-12-01 00:03:00    19.611111\n",
       "2021-12-01 00:04:00    19.611111\n",
       "...                          ...\n",
       "2021-12-01 23:55:00    19.777778\n",
       "2021-12-01 23:56:00    19.777778\n",
       "2021-12-01 23:57:00    19.777778\n",
       "2021-12-01 23:58:00    19.777778\n",
       "2021-12-01 23:59:00    19.777778\n",
       "\n",
       "[1440 rows x 1 columns]"
      ]
     },
     "execution_count": 64,
     "metadata": {},
     "output_type": "execute_result"
    }
   ],
   "source": [
    "node4temp.loc['2021-12-01']"
   ]
  },
  {
   "cell_type": "code",
   "execution_count": 66,
   "id": "d43b90ba-040f-46e6-bd9c-25ea09ba230f",
   "metadata": {},
   "outputs": [
    {
     "data": {
      "text/html": [
       "<div>\n",
       "<style scoped>\n",
       "    .dataframe tbody tr th:only-of-type {\n",
       "        vertical-align: middle;\n",
       "    }\n",
       "\n",
       "    .dataframe tbody tr th {\n",
       "        vertical-align: top;\n",
       "    }\n",
       "\n",
       "    .dataframe thead th {\n",
       "        text-align: right;\n",
       "    }\n",
       "</style>\n",
       "<table border=\"1\" class=\"dataframe\">\n",
       "  <thead>\n",
       "    <tr style=\"text-align: right;\">\n",
       "      <th></th>\n",
       "      <th>Temperature</th>\n",
       "    </tr>\n",
       "  </thead>\n",
       "  <tbody>\n",
       "    <tr>\n",
       "      <th>count</th>\n",
       "      <td>996057.000000</td>\n",
       "    </tr>\n",
       "    <tr>\n",
       "      <th>mean</th>\n",
       "      <td>19.817380</td>\n",
       "    </tr>\n",
       "    <tr>\n",
       "      <th>std</th>\n",
       "      <td>4.346382</td>\n",
       "    </tr>\n",
       "    <tr>\n",
       "      <th>min</th>\n",
       "      <td>-17.777778</td>\n",
       "    </tr>\n",
       "    <tr>\n",
       "      <th>25%</th>\n",
       "      <td>17.900000</td>\n",
       "    </tr>\n",
       "    <tr>\n",
       "      <th>50%</th>\n",
       "      <td>20.500000</td>\n",
       "    </tr>\n",
       "    <tr>\n",
       "      <th>75%</th>\n",
       "      <td>22.200000</td>\n",
       "    </tr>\n",
       "    <tr>\n",
       "      <th>max</th>\n",
       "      <td>293.888889</td>\n",
       "    </tr>\n",
       "  </tbody>\n",
       "</table>\n",
       "</div>"
      ],
      "text/plain": [
       "         Temperature\n",
       "count  996057.000000\n",
       "mean       19.817380\n",
       "std         4.346382\n",
       "min       -17.777778\n",
       "25%        17.900000\n",
       "50%        20.500000\n",
       "75%        22.200000\n",
       "max       293.888889"
      ]
     },
     "execution_count": 66,
     "metadata": {},
     "output_type": "execute_result"
    }
   ],
   "source": [
    "node4temp.describe()"
   ]
  },
  {
   "cell_type": "markdown",
   "id": "6ec707cf-257b-453a-b171-bbace7162666",
   "metadata": {},
   "source": [
    "This is data from one sensor.  Your task in this assignment is to combine, using the method shown below, all the CSV files into one DataFrame for temperature, and one DataFrame for humidity, and use Matplotlib to plot the data in various ways.  We can repeat the process above for the rest of the CSV files to create a DataFrame for each file, but how do we combine DataFrames?  To illustrate the method, we'll start with two sample DataFrames:"
   ]
  },
  {
   "cell_type": "code",
   "execution_count": 68,
   "id": "883e6c5d-37b5-405b-b660-c458921cb5d1",
   "metadata": {},
   "outputs": [],
   "source": [
    "values1 = {'values1' : np.linspace(10,20,9)}\n",
    "values2 = {'values2' : np.linspace(20,30,10)}\n",
    "index1 = pd.DatetimeIndex(['2003-11-20 13:07:40',\n",
    "           '2003-11-20 13:16:13',\n",
    "           '2003-11-20 13:24:44',\n",
    "           '2003-11-20 13:33:17',\n",
    "           '2003-11-20 13:41:49',\n",
    "           '2003-11-20 13:50:20',\n",
    "           '2003-11-20 13:58:53',\n",
    "           '2003-11-20 14:07:24',\n",
    "           '2003-11-20 14:15:57'],\n",
    "          dtype='datetime64[ns]')\n",
    "index2 = pd.DatetimeIndex(['2003-11-20 13:07:40',\n",
    "           '2003-11-20 13:16:13',\n",
    "           '2003-11-20 13:24:44',\n",
    "           '2003-11-20 13:33:17',\n",
    "           '2003-11-20 13:41:49',\n",
    "           '2003-11-20 13:50:20',\n",
    "           '2003-11-20 13:58:53',\n",
    "           '2003-11-20 14:07:24',\n",
    "           '2003-11-20 14:15:57',\n",
    "           '2003-11-20 14:24:28'],\n",
    "          dtype='datetime64[ns]')\n",
    "\n",
    "df_one = pd.DataFrame(values1)\n",
    "df_one.index = index1\n",
    "df_two = pd.DataFrame(values2)\n",
    "df_two.index = index2\n"
   ]
  },
  {
   "cell_type": "code",
   "execution_count": 70,
   "id": "7a39ee70-b851-4850-af04-fc55e342480c",
   "metadata": {},
   "outputs": [
    {
     "data": {
      "text/html": [
       "<div>\n",
       "<style scoped>\n",
       "    .dataframe tbody tr th:only-of-type {\n",
       "        vertical-align: middle;\n",
       "    }\n",
       "\n",
       "    .dataframe tbody tr th {\n",
       "        vertical-align: top;\n",
       "    }\n",
       "\n",
       "    .dataframe thead th {\n",
       "        text-align: right;\n",
       "    }\n",
       "</style>\n",
       "<table border=\"1\" class=\"dataframe\">\n",
       "  <thead>\n",
       "    <tr style=\"text-align: right;\">\n",
       "      <th></th>\n",
       "      <th>values1</th>\n",
       "    </tr>\n",
       "  </thead>\n",
       "  <tbody>\n",
       "    <tr>\n",
       "      <th>2003-11-20 13:07:40</th>\n",
       "      <td>10.00</td>\n",
       "    </tr>\n",
       "    <tr>\n",
       "      <th>2003-11-20 13:16:13</th>\n",
       "      <td>11.25</td>\n",
       "    </tr>\n",
       "    <tr>\n",
       "      <th>2003-11-20 13:24:44</th>\n",
       "      <td>12.50</td>\n",
       "    </tr>\n",
       "    <tr>\n",
       "      <th>2003-11-20 13:33:17</th>\n",
       "      <td>13.75</td>\n",
       "    </tr>\n",
       "    <tr>\n",
       "      <th>2003-11-20 13:41:49</th>\n",
       "      <td>15.00</td>\n",
       "    </tr>\n",
       "    <tr>\n",
       "      <th>2003-11-20 13:50:20</th>\n",
       "      <td>16.25</td>\n",
       "    </tr>\n",
       "    <tr>\n",
       "      <th>2003-11-20 13:58:53</th>\n",
       "      <td>17.50</td>\n",
       "    </tr>\n",
       "    <tr>\n",
       "      <th>2003-11-20 14:07:24</th>\n",
       "      <td>18.75</td>\n",
       "    </tr>\n",
       "    <tr>\n",
       "      <th>2003-11-20 14:15:57</th>\n",
       "      <td>20.00</td>\n",
       "    </tr>\n",
       "  </tbody>\n",
       "</table>\n",
       "</div>"
      ],
      "text/plain": [
       "                     values1\n",
       "2003-11-20 13:07:40    10.00\n",
       "2003-11-20 13:16:13    11.25\n",
       "2003-11-20 13:24:44    12.50\n",
       "2003-11-20 13:33:17    13.75\n",
       "2003-11-20 13:41:49    15.00\n",
       "2003-11-20 13:50:20    16.25\n",
       "2003-11-20 13:58:53    17.50\n",
       "2003-11-20 14:07:24    18.75\n",
       "2003-11-20 14:15:57    20.00"
      ]
     },
     "execution_count": 70,
     "metadata": {},
     "output_type": "execute_result"
    }
   ],
   "source": [
    "df_one"
   ]
  },
  {
   "cell_type": "code",
   "execution_count": 72,
   "id": "2113d6b5-ddf6-4c29-85a7-2381d7360c8a",
   "metadata": {},
   "outputs": [
    {
     "data": {
      "text/html": [
       "<div>\n",
       "<style scoped>\n",
       "    .dataframe tbody tr th:only-of-type {\n",
       "        vertical-align: middle;\n",
       "    }\n",
       "\n",
       "    .dataframe tbody tr th {\n",
       "        vertical-align: top;\n",
       "    }\n",
       "\n",
       "    .dataframe thead th {\n",
       "        text-align: right;\n",
       "    }\n",
       "</style>\n",
       "<table border=\"1\" class=\"dataframe\">\n",
       "  <thead>\n",
       "    <tr style=\"text-align: right;\">\n",
       "      <th></th>\n",
       "      <th>values2</th>\n",
       "    </tr>\n",
       "  </thead>\n",
       "  <tbody>\n",
       "    <tr>\n",
       "      <th>2003-11-20 13:07:40</th>\n",
       "      <td>20.000000</td>\n",
       "    </tr>\n",
       "    <tr>\n",
       "      <th>2003-11-20 13:16:13</th>\n",
       "      <td>21.111111</td>\n",
       "    </tr>\n",
       "    <tr>\n",
       "      <th>2003-11-20 13:24:44</th>\n",
       "      <td>22.222222</td>\n",
       "    </tr>\n",
       "    <tr>\n",
       "      <th>2003-11-20 13:33:17</th>\n",
       "      <td>23.333333</td>\n",
       "    </tr>\n",
       "    <tr>\n",
       "      <th>2003-11-20 13:41:49</th>\n",
       "      <td>24.444444</td>\n",
       "    </tr>\n",
       "    <tr>\n",
       "      <th>2003-11-20 13:50:20</th>\n",
       "      <td>25.555556</td>\n",
       "    </tr>\n",
       "    <tr>\n",
       "      <th>2003-11-20 13:58:53</th>\n",
       "      <td>26.666667</td>\n",
       "    </tr>\n",
       "    <tr>\n",
       "      <th>2003-11-20 14:07:24</th>\n",
       "      <td>27.777778</td>\n",
       "    </tr>\n",
       "    <tr>\n",
       "      <th>2003-11-20 14:15:57</th>\n",
       "      <td>28.888889</td>\n",
       "    </tr>\n",
       "    <tr>\n",
       "      <th>2003-11-20 14:24:28</th>\n",
       "      <td>30.000000</td>\n",
       "    </tr>\n",
       "  </tbody>\n",
       "</table>\n",
       "</div>"
      ],
      "text/plain": [
       "                       values2\n",
       "2003-11-20 13:07:40  20.000000\n",
       "2003-11-20 13:16:13  21.111111\n",
       "2003-11-20 13:24:44  22.222222\n",
       "2003-11-20 13:33:17  23.333333\n",
       "2003-11-20 13:41:49  24.444444\n",
       "2003-11-20 13:50:20  25.555556\n",
       "2003-11-20 13:58:53  26.666667\n",
       "2003-11-20 14:07:24  27.777778\n",
       "2003-11-20 14:15:57  28.888889\n",
       "2003-11-20 14:24:28  30.000000"
      ]
     },
     "execution_count": 72,
     "metadata": {},
     "output_type": "execute_result"
    }
   ],
   "source": [
    "df_two"
   ]
  },
  {
   "cell_type": "markdown",
   "id": "34e8b12a-4d81-4298-9626-8a2fe3c9500a",
   "metadata": {},
   "source": [
    "Notice that df_two has 10 rows, whereas df_one has only 9 rows.  We will merge these DataFrames into df_three, using an inner join.  The index values that don't match will be dropped, which is OK for our purposes in this assignment. "
   ]
  },
  {
   "cell_type": "code",
   "execution_count": 74,
   "id": "a0d8c781-12cc-4e1f-b9ad-83db8a5aa418",
   "metadata": {},
   "outputs": [],
   "source": [
    "df_three = df_one.join(df_two)"
   ]
  },
  {
   "cell_type": "code",
   "execution_count": 76,
   "id": "519a82c7-53f7-44dd-8f37-22ef6d42cfb0",
   "metadata": {},
   "outputs": [
    {
     "data": {
      "text/html": [
       "<div>\n",
       "<style scoped>\n",
       "    .dataframe tbody tr th:only-of-type {\n",
       "        vertical-align: middle;\n",
       "    }\n",
       "\n",
       "    .dataframe tbody tr th {\n",
       "        vertical-align: top;\n",
       "    }\n",
       "\n",
       "    .dataframe thead th {\n",
       "        text-align: right;\n",
       "    }\n",
       "</style>\n",
       "<table border=\"1\" class=\"dataframe\">\n",
       "  <thead>\n",
       "    <tr style=\"text-align: right;\">\n",
       "      <th></th>\n",
       "      <th>values1</th>\n",
       "      <th>values2</th>\n",
       "    </tr>\n",
       "  </thead>\n",
       "  <tbody>\n",
       "    <tr>\n",
       "      <th>2003-11-20 13:07:40</th>\n",
       "      <td>10.00</td>\n",
       "      <td>20.000000</td>\n",
       "    </tr>\n",
       "    <tr>\n",
       "      <th>2003-11-20 13:16:13</th>\n",
       "      <td>11.25</td>\n",
       "      <td>21.111111</td>\n",
       "    </tr>\n",
       "    <tr>\n",
       "      <th>2003-11-20 13:24:44</th>\n",
       "      <td>12.50</td>\n",
       "      <td>22.222222</td>\n",
       "    </tr>\n",
       "    <tr>\n",
       "      <th>2003-11-20 13:33:17</th>\n",
       "      <td>13.75</td>\n",
       "      <td>23.333333</td>\n",
       "    </tr>\n",
       "    <tr>\n",
       "      <th>2003-11-20 13:41:49</th>\n",
       "      <td>15.00</td>\n",
       "      <td>24.444444</td>\n",
       "    </tr>\n",
       "    <tr>\n",
       "      <th>2003-11-20 13:50:20</th>\n",
       "      <td>16.25</td>\n",
       "      <td>25.555556</td>\n",
       "    </tr>\n",
       "    <tr>\n",
       "      <th>2003-11-20 13:58:53</th>\n",
       "      <td>17.50</td>\n",
       "      <td>26.666667</td>\n",
       "    </tr>\n",
       "    <tr>\n",
       "      <th>2003-11-20 14:07:24</th>\n",
       "      <td>18.75</td>\n",
       "      <td>27.777778</td>\n",
       "    </tr>\n",
       "    <tr>\n",
       "      <th>2003-11-20 14:15:57</th>\n",
       "      <td>20.00</td>\n",
       "      <td>28.888889</td>\n",
       "    </tr>\n",
       "  </tbody>\n",
       "</table>\n",
       "</div>"
      ],
      "text/plain": [
       "                     values1    values2\n",
       "2003-11-20 13:07:40    10.00  20.000000\n",
       "2003-11-20 13:16:13    11.25  21.111111\n",
       "2003-11-20 13:24:44    12.50  22.222222\n",
       "2003-11-20 13:33:17    13.75  23.333333\n",
       "2003-11-20 13:41:49    15.00  24.444444\n",
       "2003-11-20 13:50:20    16.25  25.555556\n",
       "2003-11-20 13:58:53    17.50  26.666667\n",
       "2003-11-20 14:07:24    18.75  27.777778\n",
       "2003-11-20 14:15:57    20.00  28.888889"
      ]
     },
     "execution_count": 76,
     "metadata": {},
     "output_type": "execute_result"
    }
   ],
   "source": [
    "df_three"
   ]
  },
  {
   "cell_type": "markdown",
   "id": "dac63ef3-af45-4024-b9e2-8ee554379a15",
   "metadata": {},
   "source": [
    "Now we can write df_three to a CSV file."
   ]
  },
  {
   "cell_type": "code",
   "execution_count": 78,
   "id": "b8ce7817-7d75-473c-9e7b-814f496d78f1",
   "metadata": {},
   "outputs": [],
   "source": [
    "df_three.to_csv('df_three.csv')"
   ]
  },
  {
   "cell_type": "markdown",
   "id": "b25d4bb4-ad90-43a2-8a28-d7920d647b8d",
   "metadata": {},
   "source": [
    "The following code makes a simple example plot of the data.  More features will be required of your assigned plots, such as labels and a legend."
   ]
  },
  {
   "cell_type": "code",
   "execution_count": 80,
   "id": "2b4da687-c8f5-49f9-ac33-f870f581f311",
   "metadata": {},
   "outputs": [
    {
     "data": {
      "image/png": "[encoded data removed]",
      "text/plain": [
       "<Figure size 640x480 with 1 Axes>"
      ]
     },
     "metadata": {},
     "output_type": "display_data"
    }
   ],
   "source": [
    "fig = plt.figure()\n",
    "ax = plt.axes()\n",
    "ax.plot(df_three)\n",
    "labels = plt.xticks(rotation='vertical')"
   ]
  },
  {
   "cell_type": "markdown",
   "id": "e3d3e556-5f09-4f83-974e-68ff21628198",
   "metadata": {},
   "source": [
    "Our temperature data includes some values that don't seem right.  These are outliers, and finding outliers using statistical methods is not part of this assignment.  But you do need to be able to print rows, for example, of Temperatures greater than 30 (30C)."
   ]
  },
  {
   "cell_type": "code",
   "execution_count": 82,
   "id": "cefe94e1-6d0e-4289-82f8-0c6ed58d0d61",
   "metadata": {},
   "outputs": [
    {
     "data": {
      "text/html": [
       "<div>\n",
       "<style scoped>\n",
       "    .dataframe tbody tr th:only-of-type {\n",
       "        vertical-align: middle;\n",
       "    }\n",
       "\n",
       "    .dataframe tbody tr th {\n",
       "        vertical-align: top;\n",
       "    }\n",
       "\n",
       "    .dataframe thead th {\n",
       "        text-align: right;\n",
       "    }\n",
       "</style>\n",
       "<table border=\"1\" class=\"dataframe\">\n",
       "  <thead>\n",
       "    <tr style=\"text-align: right;\">\n",
       "      <th></th>\n",
       "      <th>Temperature</th>\n",
       "    </tr>\n",
       "    <tr>\n",
       "      <th>DateTime</th>\n",
       "      <th></th>\n",
       "    </tr>\n",
       "  </thead>\n",
       "  <tbody>\n",
       "    <tr>\n",
       "      <th>2022-02-11 22:26:00</th>\n",
       "      <td>58.300000</td>\n",
       "    </tr>\n",
       "    <tr>\n",
       "      <th>2022-02-11 22:27:00</th>\n",
       "      <td>58.300000</td>\n",
       "    </tr>\n",
       "    <tr>\n",
       "      <th>2022-02-11 22:28:00</th>\n",
       "      <td>58.300000</td>\n",
       "    </tr>\n",
       "    <tr>\n",
       "      <th>2022-02-11 22:29:00</th>\n",
       "      <td>58.300000</td>\n",
       "    </tr>\n",
       "    <tr>\n",
       "      <th>2022-02-11 22:30:00</th>\n",
       "      <td>58.300000</td>\n",
       "    </tr>\n",
       "    <tr>\n",
       "      <th>...</th>\n",
       "      <td>...</td>\n",
       "    </tr>\n",
       "    <tr>\n",
       "      <th>2022-02-25 12:17:00</th>\n",
       "      <td>293.888889</td>\n",
       "    </tr>\n",
       "    <tr>\n",
       "      <th>2022-02-25 12:18:00</th>\n",
       "      <td>293.888889</td>\n",
       "    </tr>\n",
       "    <tr>\n",
       "      <th>2022-02-25 12:19:00</th>\n",
       "      <td>153.666667</td>\n",
       "    </tr>\n",
       "    <tr>\n",
       "      <th>2022-03-08 10:15:00</th>\n",
       "      <td>43.875000</td>\n",
       "    </tr>\n",
       "    <tr>\n",
       "      <th>2022-03-12 04:14:00</th>\n",
       "      <td>87.750000</td>\n",
       "    </tr>\n",
       "  </tbody>\n",
       "</table>\n",
       "<p>123 rows × 1 columns</p>\n",
       "</div>"
      ],
      "text/plain": [
       "                     Temperature\n",
       "DateTime                        \n",
       "2022-02-11 22:26:00    58.300000\n",
       "2022-02-11 22:27:00    58.300000\n",
       "2022-02-11 22:28:00    58.300000\n",
       "2022-02-11 22:29:00    58.300000\n",
       "2022-02-11 22:30:00    58.300000\n",
       "...                          ...\n",
       "2022-02-25 12:17:00   293.888889\n",
       "2022-02-25 12:18:00   293.888889\n",
       "2022-02-25 12:19:00   153.666667\n",
       "2022-03-08 10:15:00    43.875000\n",
       "2022-03-12 04:14:00    87.750000\n",
       "\n",
       "[123 rows x 1 columns]"
      ]
     },
     "execution_count": 82,
     "metadata": {},
     "output_type": "execute_result"
    }
   ],
   "source": [
    "#insert code here to print rows in node4temp where the temperature values is greater than 30\n",
    "node4temp[node4temp['Temperature'] > 30]"
   ]
  },
  {
   "cell_type": "markdown",
   "id": "cd4192b4-9680-4e87-bb08-251a07fe3127",
   "metadata": {},
   "source": [
    "<a id='here'></a>\n",
    "3. After reading/running the above cells (don't forget to fill in code where asked), you will ready to apply the same types of operations to complete the main assignment work, which is to \n",
    " * Observe the CSV files are data for temperature and relative humidity for 3 sensors, node4, node5, node6, which comprise 6 files.  Make up your own simple room names (be creative), like Kitchen, Nook, Closet, and we'll pretend the three nodes are in these rooms of your house.\n",
    " * Based on the techniques illustrated in the above Jupyter cells, add more cells to this notebook as necessary to create two dataframes from the data, using variables temperature and humidity to hold them, with hourly mean values.  Supply a markdown cell above each code cell to explain in your own words what the code cell is doing.  Each of your two dataframes will have three columns of data (plus the datetime index), labeled with your three room names.\n",
    " * Create cells that will write out CSV files for the two main dataframes, as well as CSV files for dataframes representing the monthly maximum values, and monthly minimum values (this adds up to 6 CSV files in total)\n",
    " * Create markdown and code cells to plot the temperatures for August 2021 in the three rooms on one plot, and do the same for humidity\n",
    " * The plots in the above point should have a title, x-label, y-label, and a legend (revisit https://jakevdp.github.io/PythonDataScienceHandbook/04.01-simple-line-plots.html)\n",
    " * Submit just your completed version of this Jupyter notebook.\n",
    " * Demonstrate your work to your lab instructor, being prepared to explain your work if asked."
   ]
  },
  {
   "cell_type": "markdown",
   "id": "a289b1d0-170a-4680-ad66-16e89218fb8d",
   "metadata": {},
   "source": [
    "Read the CSV files into 6 dataframes"
   ]
  },
  {
   "cell_type": "code",
   "execution_count": 85,
   "id": "a935a0b3-6fbb-4cde-b92c-8a51f3beb15e",
   "metadata": {
    "scrolled": true
   },
   "outputs": [],
   "source": [
    "import pandas as pd\n",
    "\n",
    "node4t = pd.read_csv('sensor_data/node4temp.csv', names=['DateTime','Temperature'], parse_dates=[0])\n",
    "node5t = pd.read_csv('sensor_data/node5temp.csv', names=['DateTime','Temperature'], parse_dates=[0])\n",
    "node6t = pd.read_csv('sensor_data/node6temp.csv', names=['DateTime','Temperature'], parse_dates=[0])\n",
    "\n",
    "node4h = pd.read_csv('sensor_data/node4humidity.csv', names=['DateTime','Humidity'], parse_dates=[0])\n",
    "node5h = pd.read_csv('sensor_data/node5humidity.csv', names=['DateTime','Humidity'], parse_dates=[0])\n",
    "node6h = pd.read_csv('sensor_data/node6humidity.csv', names=['DateTime','Humidity'], parse_dates=[0])"
   ]
  },
  {
   "cell_type": "markdown",
   "id": "fb36d22a-5e7c-4c35-a675-d0939323e1a3",
   "metadata": {},
   "source": [
    "Set DateTime as the index"
   ]
  },
  {
   "cell_type": "code",
   "execution_count": 87,
   "id": "990120de-429c-4c31-817f-1c293c053ba4",
   "metadata": {},
   "outputs": [],
   "source": [
    "node4t.set_index('DateTime', inplace=True)\n",
    "node5t.set_index('DateTime', inplace=True)\n",
    "node6t.set_index('DateTime', inplace=True)\n",
    "\n",
    "node4h.set_index('DateTime', inplace=True)\n",
    "node5h.set_index('DateTime', inplace=True)\n",
    "node6h.set_index('DateTime', inplace=True)"
   ]
  },
  {
   "cell_type": "markdown",
   "id": "3fca7f0b-e9e3-417a-9b60-6359b7efcd01",
   "metadata": {},
   "source": [
    "Make new dataframe containing only mean hourly values"
   ]
  },
  {
   "cell_type": "code",
   "execution_count": 89,
   "id": "e1ad5802-734c-4bd2-b57c-6fad4cf49abd",
   "metadata": {},
   "outputs": [],
   "source": [
    "node4_meantemp = node4t['Temperature'].resample('h').mean()\n",
    "node5_meantemp = node5t['Temperature'].resample('h').mean()\n",
    "node6_meantemp = node6t['Temperature'].resample('h').mean()\n",
    "\n",
    "node4_meanhumid = node4h['Humidity'].resample('h').mean()\n",
    "node5_meanhumid = node5h['Humidity'].resample('h').mean()\n",
    "node6_meanhumid = node6h['Humidity'].resample('h').mean()"
   ]
  },
  {
   "cell_type": "markdown",
   "id": "5d38abb3-2cfe-4f84-873d-8b36c1e7dd39",
   "metadata": {},
   "source": [
    "Join the dataframes together"
   ]
  },
  {
   "cell_type": "code",
   "execution_count": 91,
   "id": "eb830a61-b465-4e28-875d-733145a02940",
   "metadata": {},
   "outputs": [],
   "source": [
    "alltemp = pd.concat([node4_meantemp,node5_meantemp,node6_meantemp], axis = 1)\n",
    "allhumid = pd.concat([node4_meanhumid,node5_meanhumid,node6_meanhumid], axis = 1)\n",
    "\n",
    "alltemp.columns = ['bedroom', 'kitchen','bathroom']\n",
    "allhumid.columns = ['bedroom', 'kitchen','bathroom']"
   ]
  },
  {
   "cell_type": "markdown",
   "id": "01124d88-0ca0-440d-bde7-0589280b477e",
   "metadata": {},
   "source": [
    "Print to CSV"
   ]
  },
  {
   "cell_type": "code",
   "execution_count": 93,
   "id": "d0638cf3-4587-4e99-83f4-7b79a5756a18",
   "metadata": {},
   "outputs": [],
   "source": [
    "alltemp.to_csv('hourly_temperature.csv')\n",
    "allhumid.to_csv('hourly_humidity')"
   ]
  },
  {
   "cell_type": "markdown",
   "id": "c9434916-0ae0-402d-b3b1-386b57bff894",
   "metadata": {},
   "source": [
    "Make dataframes containing max and min values of the month."
   ]
  },
  {
   "cell_type": "code",
   "execution_count": 95,
   "id": "00b0e518-2ad6-41e7-bc74-78553a0ee5f4",
   "metadata": {},
   "outputs": [],
   "source": [
    "max_month_temp = alltemp.resample('ME').max()\n",
    "max_month_humid = allhumid.resample('ME').max()\n",
    "\n",
    "min_month_temp = alltemp.resample('ME').min()\n",
    "min_month_humid = allhumid.resample('ME').min()"
   ]
  },
  {
   "cell_type": "markdown",
   "id": "ac45d54f-c53d-494c-992b-eaeb8b46608e",
   "metadata": {},
   "source": [
    "Print to CSV"
   ]
  },
  {
   "cell_type": "code",
   "execution_count": 97,
   "id": "a99b05e3-28de-467c-8f31-74acb0481509",
   "metadata": {},
   "outputs": [],
   "source": [
    "max_month_temp.to_csv('monthly_max_temperature.csv')\n",
    "max_month_humid.to_csv('monthly_max_humid.csv')\n",
    "\n",
    "min_month_temp.to_csv('monthly_min_temperature.csv')\n",
    "min_month_humid.to_csv('monthly_min_humid.csv')"
   ]
  },
  {
   "cell_type": "markdown",
   "id": "0eca44b8-7203-47ad-a0b9-f7e41bccaca7",
   "metadata": {},
   "source": [
    "Take the August 2021 data to create new dataframes"
   ]
  },
  {
   "cell_type": "code",
   "execution_count": 99,
   "id": "f8a800ba-08b3-4c8c-963a-a8a044693c3c",
   "metadata": {},
   "outputs": [],
   "source": [
    "august_temp = alltemp.loc['2021-08']\n",
    "august_humid = allhumid.loc['2021-08']"
   ]
  },
  {
   "cell_type": "markdown",
   "id": "2bed069c-a311-4cd0-ab7f-228c9f81b15d",
   "metadata": {},
   "source": [
    "Create plot for August 2021 temperature"
   ]
  },
  {
   "cell_type": "code",
   "execution_count": 109,
   "id": "18e743d6-9e9e-4f94-a1b6-0e69c872403c",
   "metadata": {},
   "outputs": [
    {
     "data": {
      "text/plain": [
       "<matplotlib.legend.Legend at 0x18ec4e0f470>"
      ]
     },
     "execution_count": 109,
     "metadata": {},
     "output_type": "execute_result"
    },
    {
     "data": {
      "image/png": "[encoded data removed]",
      "text/plain": [
       "<Figure size 640x480 with 1 Axes>"
      ]
     },
     "metadata": {},
     "output_type": "display_data"
    }
   ],
   "source": [
    "import matplotlib.pyplot as plt\n",
    "plt.style.use('seaborn-v0_8-whitegrid')\n",
    "import numpy as np\n",
    "\n",
    "fig = plt.figure()\n",
    "ax = plt.axes()\n",
    "\n",
    "ax.plot(august_temp.index, august_temp['bedroom'], label='Bedroom')\n",
    "ax.plot(august_temp.index, august_temp['kitchen'], label='Kitchen')\n",
    "ax.plot(august_temp.index, august_temp['bathroom'], label='Bathroom')\n",
    "\n",
    "labels = plt.xticks(rotation = 'vertical')\n",
    "ax.set_title('August 2021 Temperature')\n",
    "ax.set_xlabel('Date')\n",
    "ax.set_ylabel('Temperature')\n",
    "ax.legend()"
   ]
  },
  {
   "cell_type": "markdown",
   "id": "f48d000e-e46d-4508-ac10-e9dbd656ea39",
   "metadata": {},
   "source": [
    "Create plot for 2021 humidity"
   ]
  },
  {
   "cell_type": "code",
   "execution_count": 113,
   "id": "d806b463-8df4-4384-a074-106c88efbc22",
   "metadata": {},
   "outputs": [
    {
     "data": {
      "text/plain": [
       "<matplotlib.legend.Legend at 0x18ec4717590>"
      ]
     },
     "execution_count": 113,
     "metadata": {},
     "output_type": "execute_result"
    },
    {
     "data": {
      "image/png": "[encoded data removed]",
      "text/plain": [
       "<Figure size 640x480 with 1 Axes>"
      ]
     },
     "metadata": {},
     "output_type": "display_data"
    }
   ],
   "source": [
    "fig = plt.figure()\n",
    "ax = plt.axes()\n",
    "\n",
    "ax.plot(august_humid.index, august_humid['bedroom'], label='Bedroom')\n",
    "ax.plot(august_humid.index, august_humid['kitchen'], label='Kitchen')\n",
    "ax.plot(august_humid.index, august_humid['bathroom'], label='Bathroom')\n",
    "\n",
    "labels = plt.xticks(rotation = 'vertical')\n",
    "ax.set_title('August 2021 Humidity')\n",
    "ax.set_xlabel('Date')\n",
    "ax.set_ylabel('Temperature')\n",
    "ax.legend()"
   ]
  }
 ],
 "metadata": {
  "kernelspec": {
   "display_name": "Python 3 (ipykernel)",
   "language": "python",
   "name": "python3"
  },
  "language_info": {
   "codemirror_mode": {
    "name": "ipython",
    "version": 3
   },
   "file_extension": ".py",
   "mimetype": "text/x-python",
   "name": "python",
   "nbconvert_exporter": "python",
   "pygments_lexer": "ipython3",
   "version": "3.12.4"
  }
 },
 "nbformat": 4,
 "nbformat_minor": 5
}
