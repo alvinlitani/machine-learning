{
 "cells": [
  {
   "cell_type": "code",
   "execution_count": 27,
   "id": "dcc3834e-f8be-4b53-a669-c9a20274edc0",
   "metadata": {},
   "outputs": [
    {
     "name": "stdout",
     "output_type": "stream",
     "text": [
      "Latitude: 32.69999588591821\n",
      "Longitude: -96.76600164373255\n"
     ]
    }
   ],
   "source": [
    "import pyproj\n",
    "\n",
    "# UTM coordinates\n",
    "utm_easting = 2501861.34015\n",
    "utm_northing = 6942005.79053\n",
    "\n",
    "# Define the UTM projection for Texas North Central (NAD83) and WGS84 for latitude/longitude\n",
    "utm_proj = pyproj.CRS(\"EPSG:2276\")  # Texas North Central (NAD83)\n",
    "latlon_proj = pyproj.CRS(\"EPSG:4326\")  # WGS84 Latitude/Longitude (for GPS)\n",
    "\n",
    "# Create a transformer to convert UTM to Lat/Lon\n",
    "transformer = pyproj.Transformer.from_crs(utm_proj, latlon_proj, always_xy=True)\n",
    "\n",
    "# Convert UTM to Latitude and Longitude\n",
    "longitude, latitude = transformer.transform(utm_easting, utm_northing)\n",
    "\n",
    "# Print the results\n",
    "print(f\"Latitude: {latitude}\")\n",
    "print(f\"Longitude: {longitude}\")\n"
   ]
  },
  {
   "cell_type": "code",
   "execution_count": null,
   "id": "e1e77528-97d0-4377-8688-7e053d1f3e8c",
   "metadata": {},
   "outputs": [],
   "source": []
  }
 ],
 "metadata": {
  "kernelspec": {
   "display_name": "Python 3 (ipykernel)",
   "language": "python",
   "name": "python3"
  },
  "language_info": {
   "codemirror_mode": {
    "name": "ipython",
    "version": 3
   },
   "file_extension": ".py",
   "mimetype": "text/x-python",
   "name": "python",
   "nbconvert_exporter": "python",
   "pygments_lexer": "ipython3",
   "version": "3.12.4"
  }
 },
 "nbformat": 4,
 "nbformat_minor": 5
}
